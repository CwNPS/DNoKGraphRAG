{
 "cells": [
  {
   "cell_type": "markdown",
   "metadata": {},
   "source": [
    "# Scraping and Loading\n",
    "This notebook scrapes information from a variety of sources, chunks it and stores it in a chroma database. "
   ]
  },
  {
   "cell_type": "code",
   "execution_count": 68,
   "metadata": {},
   "outputs": [
    {
     "name": "stdout",
     "output_type": "stream",
     "text": [
      "Note: you may need to restart the kernel to use updated packages.\n"
     ]
    }
   ],
   "source": [
    "#install packages\n",
    "#python=3.12 for conda\n",
    "%pip install -r requirements.txt -q"
   ]
  },
  {
   "cell_type": "code",
   "execution_count": 69,
   "metadata": {},
   "outputs": [],
   "source": [
    "from tqdm import tqdm\n",
    "from typing import List, Tuple"
   ]
  },
  {
   "cell_type": "markdown",
   "metadata": {},
   "source": [
    "## Document list\n",
    "https://nps01.sharepoint.com/:w:/s/DNoKLLMTrainingProject/ESrGKy8E3_lMh9vG7lYk2V0BY4KXIErvX_8eAFb19lyc6Q?e=v5hUFq"
   ]
  },
  {
   "cell_type": "code",
   "execution_count": 70,
   "metadata": {},
   "outputs": [],
   "source": [
    "# dictionaries of input documents\n",
    "\n",
    "youtube_playlists = [\n",
    "    {\"name\": \"Trefor Bazett\", \"url\": \"https://youtube.com/playlist?list=PLHXZ9OQGMqxfUl0tcqPNTJsb7R6BqSLo6&si=NhIN_u37IFvSr0Lc\"},\n",
    "    {\"name\": \"Gilbert Strang\", \"url\": \"https://youtube.com/playlist?list=PL49CF3715CB9EF31D&si=R2vA4kB9MqWZndTW\"},\n",
    "    {\"name\": \"3blue1brown\", \"url\": \"https://youtube.com/playlist?list=PLZHQObOWTQDPD3MizzM2xVFitgF8hE_ab&si=PDgpnXcwZEEdFe4G\"},\n",
    "    {\"name\": \"Wrath of Math\", \"url\": \"https://youtube.com/playlist?list=PLztBpqftvzxWT5z53AxSqkSaWDhAeToDG&si=ndRUFrIUIupQkpOj\"},\n",
    "    {\"name\": \"Adam Panagos\", \"url\": \"https://youtube.com/playlist?list=PLdciPPorsHuk3Hp7QPPAtTkpW0o1UXQB6&si=A_H3aALHmU-rI4Ki\"},\n",
    "    {\"name\": \"James Hamblin\", \"url\": \"https://youtube.com/playlist?list=PLNr8B4XHL5kGDHOrU4IeI6QNuZHur4F86&si=S16_paArJ6zCje6f\"},\n",
    "    {\"name\": \"Kimberly Brehm\", \"url\": \"https://youtube.com/playlist?list=PLl-gb0E4MII03hiCrZa7YqxUMEeEPmZqK&si=tnpBY3NExUXLfxnr\"},\n",
    "    {\"name\": \"Khan Academy\", \"url\": \"https://youtube.com/playlist?list=PLFD0EB975BA0CC1E0&si=XXQHp8tUdTLqd21-\"},\n",
    "]\n",
    "\n",
    "youtube_videos = [\n",
    "    {\"name\": \"Zach Star - Dear Linear Algebra Students\", \"url\": \"https://youtu.be/4csuTO7UTMo?si=rt2Eow4VYIaYLEvT\"},\n",
    "    {\"name\": \"Zach Star - The Applications of Matrices\", \"url\": \"https://youtu.be/rowWM-MijXU?si=2ofh0tX4G5alPre1\"},\n",
    "    {\"name\": \"Zach Star - Eigenvectors and Eigenvalues\", \"url\": \"https://youtu.be/i8FukKfMKCI?si=CFnl_yrRkQvFyeez\"},\n",
    "    {\"name\": \"Zach Star - Linear Algebra Tool\", \"url\": \"https://youtu.be/1_fXgJWQhVY?si=UHqsSkbdiXXafgn6\"},\n",
    "    {\"name\": \"Zach Star - Dot Product Applications\", \"url\": \"https://youtu.be/TBpDMLCC2uY?si=Sf_fZPfrmnR4UChD\"},\n",
    "]\n",
    "\n",
    "blogs = [\n",
    "    {\"name\": \"3blue1brown Blog\", \"url\": \"https://www.3blue1brown.com/topics/linear-algebra\"},\n",
    "    {\"name\": \"Gregory Gundersen - Matrices as Functions\", \"url\": \"https://www.gregorygundersen.com/blog/2022/08/28/matrices-as-functions-and-data/\"},\n",
    "    {\"name\": \"Gregory Gundersen - Positive Definite Matrices\", \"url\": \"https://www.gregorygundersen.com/blog/2022/02/27/positive-definite/\"},\n",
    "    {\"name\": \"Gregory Gundersen - Linear Independence\", \"url\": \"https://www.gregorygundersen.com/blog/2021/04/24/linear-independence/\"},\n",
    "    {\"name\": \"Gregory Gundersen - Matrix Inversion\", \"url\": \"https://www.gregorygundersen.com/blog/2020/12/09/matrix-inversion/\"},\n",
    "    {\"name\": \"Gregory Gundersen - Outer Products\", \"url\": \"https://www.gregorygundersen.com/blog/2020/07/17/matmul/\"},\n",
    "    {\"name\": \"Gregory Gundersen - Summing Quadratics\", \"url\": \"https://www.gregorygundersen.com/blog/2020/07/02/sum-quadratics/\"},\n",
    "    {\"name\": \"Gregory Gundersen - Randomized SVD\", \"url\": \"https://www.gregorygundersen.com/blog/2019/01/17/randomized-svd/\"},\n",
    "    {\"name\": \"Gregory Gundersen - SVD Proof\", \"url\": \"https://www.gregorygundersen.com/blog/2018/12/20/svd-proof/\"},\n",
    "    {\"name\": \"Gregory Gundersen - Geometrical Understanding of Matrices\", \"url\": \"https://www.gregorygundersen.com/blog/2018/10/24/matrices/\"},\n",
    "    {\"name\": \"Gregory Gundersen - Dot Product\", \"url\": \"https://www.gregorygundersen.com/blog/2018/06/26/dot-product/\"},\n",
    "]\n",
    "\n",
    "pdfs = [\n",
    "    {\"name\": \"Gilbert Strang\", \"file\": \"Gilbert_Strang_Linear_Algebra_and_Its_Applicatio_230928_225121.pdf\"},\n",
    "    {\"name\": \"Steven Leon\", \"file\": \"Steven Leon Linear-Algebra-with-Applications.pdf\"},\n",
    "    {\"name\": \"VMLA\", \"file\": \"Introduction to Applied Linear Algebra VMLS.pdf\"},\n",
    "    {\"name\": \"Jim Hefferon\", \"file\": \"Jim Hefferon linalgebra.pdf\"},\n",
    "]\n",
    "\n",
    "pdf_directory = \"C:\\\\Users\\\\jonathan.kasprisin\\\\github\\\\Learning\\\\KG_ilp\\\\data\\\\pdfs\"\n",
    "\n"
   ]
  },
  {
   "cell_type": "code",
   "execution_count": 77,
   "metadata": {},
   "outputs": [
    {
     "name": "stdout",
     "output_type": "stream",
     "text": [
      "Found 4 PDF files\n",
      "Loading C:\\Users\\jonathan.kasprisin\\github\\Learning\\KG_ilp\\data\\pdfs\\Gilbert_Strang_Linear_Algebra_and_Its_Applicatio_230928_225121.pdf\n",
      "Loading C:\\Users\\jonathan.kasprisin\\github\\Learning\\KG_ilp\\data\\pdfs\\Introduction to Applied Linear Algebra VMLS.pdf\n",
      "Loading C:\\Users\\jonathan.kasprisin\\github\\Learning\\KG_ilp\\data\\pdfs\\Jim Hefferon linalgebra.pdf\n",
      "Loading C:\\Users\\jonathan.kasprisin\\github\\Learning\\KG_ilp\\data\\pdfs\\Steven Leon Linear-Algebra-with-Applications.pdf\n",
      "Loaded 2048 documents\n"
     ]
    }
   ],
   "source": [
    "###Load PDFs\n",
    "from langchain.document_loaders import PyPDFLoader\n",
    "import os\n",
    "\n",
    "#Find all PDF files in a directory and its subdirectories\n",
    "def find_pdf_files(directory):\n",
    "    pdf_files = []\n",
    "    for root, _, files in os.walk(directory):\n",
    "        for file in files:\n",
    "            if file.lower().endswith('.pdf'):\n",
    "                pdf_files.append(os.path.join(root, file))\n",
    "    return pdf_files\n",
    "\n",
    "pdf_files = find_pdf_files(pdf_directory)\n",
    "print(f\"Found {len(pdf_files)} PDF files\")\n",
    "\n",
    "all_pdf_docs=[]\n",
    "for f in pdf_files:\n",
    "    try:\n",
    "        print(f\"Loading {f}\")\n",
    "        loader = PyPDFLoader(f)\n",
    "        docs = loader.lazy_load()\n",
    "        all_pdf_docs.extend(docs)\n",
    "    except Exception as e:\n",
    "        print(f\"Error loading {f}: {e}\")\n",
    "\n",
    "print(f\"Loaded {len(all_pdf_docs)} documents\")"
   ]
  },
  {
   "cell_type": "code",
   "execution_count": 75,
   "metadata": {},
   "outputs": [],
   "source": [
    "from langchain.document_loaders import YoutubeLoader\n",
    "from langchain_core.documents import Document\n",
    "import yt_dlp\n",
    "\n",
    "def get_youtube_metadata(url: str) -> dict:\n",
    "    ydl_opts = {\n",
    "        'quiet': True,\n",
    "        'skip_download': True,  # Do not download the video\n",
    "    }\n",
    "    with yt_dlp.YoutubeDL(ydl_opts) as ydl:\n",
    "        info_dict = ydl.extract_info(url, download=False)\n",
    "        return {\n",
    "            \"title\": info_dict.get(\"title\"),\n",
    "            \"description\": info_dict.get(\"description\"),\n",
    "            \"upload_date\": info_dict.get(\"upload_date\"),\n",
    "            \"duration\": info_dict.get(\"duration\"),\n",
    "            \"uploader\": info_dict.get(\"uploader\"),\n",
    "            \"view_count\": info_dict.get(\"view_count\"),\n",
    "            \"like_count\": info_dict.get(\"like_count\"),\n",
    "            \"dislike_count\": info_dict.get(\"dislike_count\"),\n",
    "            \"categories\": info_dict.get(\"categories\"),\n",
    "            \"tags\": info_dict.get(\"tags\"),\n",
    "        }\n",
    "    \n",
    "def load_youtube_with_metadata(url: str, sequence =0) -> Tuple[List[Document], List[dict]]:\n",
    "\n",
    "    try:\n",
    "        loader = YoutubeLoader.from_youtube_url(url)\n",
    "        yt_docs = loader.load()\n",
    "\n",
    "        # Update metadata\n",
    "        metadata = get_youtube_metadata(url)\n",
    "        metadata[\"sequence\"] = sequence\n",
    "        for doc in yt_docs:\n",
    "            doc.metadata.update(metadata)\n",
    "        assert isinstance(yt_docs, list), \"yt_docs should be a list\"\n",
    "        assert all(isinstance(doc, Document) for doc in yt_docs), \"All items in yt_docs should be instances of Document\"\n",
    "        return yt_docs, None\n",
    "    except Exception as e:\n",
    "        print(f\"Error loading transcript for from {url}: {str(e)}\")\n",
    "        metadata = get_youtube_metadata(url)\n",
    "        error_list = [{\"metadata\": metadata, \"content\": \"Transcript not available\"}]\n",
    "        return None, error_list\n",
    "    \n",
    "\n",
    "\n",
    "#YouTube playlist\n",
    "def get_videos_from_playlist(playlist_url: str):\n",
    "    print(f\"Getting videos from playlist: {playlist_url}\")\n",
    "    ydl_opts = {\n",
    "        'quiet': True,\n",
    "        'extract_flat': True,  # Only extract video URLs, not full metadata\n",
    "        'skip_download': True,\n",
    "    }\n",
    "   \n",
    "    with yt_dlp.YoutubeDL(ydl_opts) as ydl:\n",
    "        try:\n",
    "            info = ydl.extract_info(playlist_url, download=False)\n",
    "            video_entries = info.get('entries', [])\n",
    "            video_info = []\n",
    "            for idx, entry in enumerate(video_entries):\n",
    "                video_url = entry.get('url')\n",
    "                if not video_url:\n",
    "                    print(f\"Warning: Missing 'url' in entry {idx} of playlist.\")\n",
    "                    continue\n",
    "                video_info.append({\"url\": video_url, \"title\": entry.get('title', 'No title'), \"sequence\": idx + 1})\n",
    "            return video_info\n",
    "\n",
    "        except yt_dlp.utils.DownloadError as e:\n",
    "            print(f\"Error extracting playlist info: {str(e)}\")\n",
    "            return []\n",
    "    \n",
    "#DEBUG\n",
    "# test_info= (get_videos_from_playlist(youtube_playlists[0][\"url\"]))\n",
    "# print(f\"Test info: {test_info[0]}\")\n",
    "    \n",
    "# Process all videos in a playlist\n",
    "def process_youtube_playlist(playlist_url: str) -> Tuple[List[Document], List[dict]]:\n",
    "    videos_info = get_videos_from_playlist(playlist_url)\n",
    "    all_yt_docs = []\n",
    "    all_errors = []\n",
    "\n",
    "    for video in videos_info:\n",
    "        url, sequence = video[\"url\"], video[\"sequence\"]\n",
    "        print(f\"Processing video: {url}\")\n",
    "        yt_docs, error_from_load = load_youtube_with_metadata(url, sequence)\n",
    "        if yt_docs:\n",
    "            all_yt_docs.extend(yt_docs)\n",
    "        if error_from_load: \n",
    "            all_errors.extend(error_from_load)\n",
    "\n",
    "    return all_yt_docs, all_errors"
   ]
  },
  {
   "cell_type": "code",
   "execution_count": 73,
   "metadata": {},
   "outputs": [],
   "source": [
    "### Load youtube transcripts and metadata from playlist or single url\n",
    "\n",
    "from langchain.document_loaders import YoutubeLoader\n",
    "from langchain_core.documents import Document\n",
    "import yt_dlp\n",
    "\n",
    "def get_youtube_metadata(url):\n",
    "    ydl_opts = {\n",
    "        'quiet': True,\n",
    "        'skip_download': True,  # Do not download the video\n",
    "    }\n",
    "    with yt_dlp.YoutubeDL(ydl_opts) as ydl:\n",
    "        info_dict = ydl.extract_info(url, download=False)\n",
    "        return {\n",
    "            \"title\": info_dict.get(\"title\"),\n",
    "            \"description\": info_dict.get(\"description\"),\n",
    "            \"upload_date\": info_dict.get(\"upload_date\"),\n",
    "            \"duration\": info_dict.get(\"duration\"),\n",
    "            \"uploader\": info_dict.get(\"uploader\"),\n",
    "            \"view_count\": info_dict.get(\"view_count\"),\n",
    "            \"like_count\": info_dict.get(\"like_count\"),\n",
    "            \"dislike_count\": info_dict.get(\"dislike_count\"),\n",
    "            \"categories\": info_dict.get(\"categories\"),\n",
    "            \"tags\": info_dict.get(\"tags\"),\n",
    "        }\n",
    "\n",
    "def load_youtube_with_metadata(url, sequence =0):\n",
    "    try:\n",
    "        loader = YoutubeLoader.from_youtube_url(url)\n",
    "        yt_docs = loader.load()\n",
    "\n",
    "        # Update metadata\n",
    "        metadata = get_youtube_metadata(url)\n",
    "        metadata[\"sequence\"] = sequence\n",
    "        for doc in yt_docs:\n",
    "            doc.metadata.update(metadata)\n",
    "\n",
    "        assert isinstance(yt_docs, Document), f\"Expected Document for {url}, got {type(yt_docs)}\"\n",
    "        return yt_docs\n",
    "    except Exception as e:\n",
    "        print(f\"Error loading transcript for URL {url}: {str(e)}\")\n",
    "        metadata = get_youtube_metadata(url)\n",
    "        # Return an empty doc with just the metadata\n",
    "        return [{\"metadata\": metadata, \"content\": \"Transcript not available\"}]\n",
    "\n",
    "#YouTube playlist\n",
    "def get_videos_from_playlist(playlist_url):\n",
    "    ydl_opts = {\n",
    "        'quiet': True,\n",
    "        'extract_flat': False,  # True ->Only extract video URLs, not full metadata\n",
    "        'skip_download': True,\n",
    "    }\n",
    "    with yt_dlp.YoutubeDL(ydl_opts) as ydl:\n",
    "        info = ydl.extract_info(playlist_url, download=False)\n",
    "        video_entries = info.get('entries', [])\n",
    "        video_info = [{\"url\": entry['url'], \"sequence\": idx + 1} for idx, entry in enumerate(video_entries)]\n",
    "        return video_info\n",
    "    \n",
    "# Process all videos in a playlist\n",
    "def process_youtube_playlist(playlist_url) -> list:\n",
    "    videos_info = get_videos_from_playlist(playlist_url)\n",
    "    all_yt_docs = []\n",
    "\n",
    "    for video in videos_info:\n",
    "        try:\n",
    "            url, sequence = video[\"url\"], video[\"sequence\"]\n",
    "            print(f\"Processing video: {url}\")\n",
    "            yt_docs = load_youtube_with_metadata(url, sequence)\n",
    "            #assert yt_docs is type Document\n",
    "            assert yt_docs is not None\n",
    "            all_yt_docs.append(yt_docs)\n",
    "        except Exception as e:\n",
    "            print(f\"Error processing video: {url}: {str(e)}\")\n",
    "            \n",
    "    return all_yt_docs\n"
   ]
  },
  {
   "cell_type": "code",
   "execution_count": 76,
   "metadata": {},
   "outputs": [
    {
     "name": "stderr",
     "output_type": "stream",
     "text": [
      "Processing YouTube playlists:   0%|          | 0/8 [00:00<?, ?it/s]"
     ]
    },
    {
     "name": "stdout",
     "output_type": "stream",
     "text": [
      "Processing playlist: Trefor Bazett\n",
      "Getting videos from playlist: https://youtube.com/playlist?list=PLHXZ9OQGMqxfUl0tcqPNTJsb7R6BqSLo6&si=NhIN_u37IFvSr0Lc\n"
     ]
    },
    {
     "name": "stderr",
     "output_type": "stream",
     "text": [
      "WARNING: [youtube:tab] Incomplete data received. Retrying (1/3)...\n",
      "WARNING: [youtube:tab] Incomplete data received. Retrying (2/3)...\n",
      "WARNING: [youtube:tab] Incomplete data received. Retrying (3/3)...\n",
      "WARNING: [youtube:tab] Incomplete data received. Giving up after 3 retries\n"
     ]
    },
    {
     "name": "stdout",
     "output_type": "stream",
     "text": [
      "Processing video: https://www.youtube.com/watch?v=ZKUqtErZCiU\n",
      "Processing video: https://www.youtube.com/watch?v=H8MiZMJr1kQ\n",
      "Processing video: https://www.youtube.com/watch?v=qKyturOAD60\n",
      "Processing video: https://www.youtube.com/watch?v=ghSkNXB08ds\n",
      "Processing video: https://www.youtube.com/watch?v=MbmZk-x2FFs\n",
      "Processing video: https://www.youtube.com/watch?v=B7XtnvNwEPA\n",
      "Processing video: https://www.youtube.com/watch?v=B8oszxF9fhI\n",
      "Processing video: https://www.youtube.com/watch?v=W01H0LcVUdQ\n",
      "Processing video: https://www.youtube.com/watch?v=3lMH_no_OvA\n",
      "Processing video: https://www.youtube.com/watch?v=vhm1bPMAgyU\n",
      "Processing video: https://www.youtube.com/watch?v=SS48Om0PX6Q\n",
      "Processing video: https://www.youtube.com/watch?v=WJlQzgS_itI\n",
      "Processing video: https://www.youtube.com/watch?v=kzjVqg0Xxhk\n",
      "Processing video: https://www.youtube.com/watch?v=4uJNuGfbxLg\n",
      "Processing video: https://www.youtube.com/watch?v=ebdfJwHM5vo\n",
      "Processing video: https://www.youtube.com/watch?v=KmDVM7VHB0Q\n",
      "Processing video: https://www.youtube.com/watch?v=rNSRcZ18i_4\n",
      "Processing video: https://www.youtube.com/watch?v=HPE1yPYklh0\n",
      "Processing video: https://www.youtube.com/watch?v=iDh3x4wSMpU\n",
      "Processing video: https://www.youtube.com/watch?v=CuMHWP-HuLc\n",
      "Processing video: https://www.youtube.com/watch?v=Bn547nOfs3w\n",
      "Processing video: https://www.youtube.com/watch?v=OFALIHBY5Bw\n",
      "Processing video: https://www.youtube.com/watch?v=3yxHDRVEjXY\n",
      "Processing video: https://www.youtube.com/watch?v=xQs7DRd0gDw\n",
      "Processing video: https://www.youtube.com/watch?v=jWVrLu5Q-fA\n",
      "Processing video: https://www.youtube.com/watch?v=VP_hZp8_dCg\n",
      "Processing video: https://www.youtube.com/watch?v=lRxtpGT5338\n",
      "Processing video: https://www.youtube.com/watch?v=4gTQDAr5W4U\n",
      "Processing video: https://www.youtube.com/watch?v=RNKsV5RrLPA\n",
      "Processing video: https://www.youtube.com/watch?v=914Uy8ohr_8\n",
      "Processing video: https://www.youtube.com/watch?v=xeq08tXY0oo\n",
      "Processing video: https://www.youtube.com/watch?v=GY40VT6p8Bo\n",
      "Processing video: https://www.youtube.com/watch?v=05twt028Km0\n",
      "Processing video: https://www.youtube.com/watch?v=On6wkamacRE\n",
      "Processing video: https://www.youtube.com/watch?v=VhzjrWo0BZU\n",
      "Processing video: https://www.youtube.com/watch?v=yt2l480ov1A\n",
      "Processing video: https://www.youtube.com/watch?v=TRuDbPjTWjg\n",
      "Processing video: https://www.youtube.com/watch?v=52Yh17c6Gdk\n",
      "Processing video: https://www.youtube.com/watch?v=K8vZAsyKYtc\n",
      "Processing video: https://www.youtube.com/watch?v=SFEFKYUBuYQ\n",
      "Processing video: https://www.youtube.com/watch?v=aA4Gtfy4ctQ\n",
      "Processing video: https://www.youtube.com/watch?v=FMqV8GZFqzQ\n",
      "Processing video: https://www.youtube.com/watch?v=-vZPtT1PVX8\n",
      "Processing video: https://www.youtube.com/watch?v=72GtkP6nP_A\n",
      "Processing video: https://www.youtube.com/watch?v=SzZaQnzstfE\n",
      "Processing video: https://www.youtube.com/watch?v=rgxyxcTwvuo\n",
      "Processing video: https://www.youtube.com/watch?v=GK0CvvX7ceM\n",
      "Processing video: https://www.youtube.com/watch?v=YQRioQ1XUck\n",
      "Processing video: https://www.youtube.com/watch?v=RFe3dEdV5M8\n",
      "Processing video: https://www.youtube.com/watch?v=_CpshMm-5p0\n",
      "Processing video: https://www.youtube.com/watch?v=9nLrmXq56Tk\n",
      "Processing video: https://www.youtube.com/watch?v=QN00isODmEs\n",
      "Processing video: https://www.youtube.com/watch?v=jZ-eL71AyzU\n",
      "Processing video: https://www.youtube.com/watch?v=ArZGG7F-pgo\n",
      "Processing video: https://www.youtube.com/watch?v=fo9wmJ0lzh8\n",
      "Processing video: https://www.youtube.com/watch?v=xQeH2vrQ-5A\n",
      "Processing video: https://www.youtube.com/watch?v=vpl8EZwrqPk\n",
      "Processing video: https://www.youtube.com/watch?v=KjlTOLhaI9s\n",
      "Processing video: https://www.youtube.com/watch?v=s4GC6zoULi0\n",
      "Processing video: https://www.youtube.com/watch?v=TZPZczNzNN4\n",
      "Processing video: https://www.youtube.com/watch?v=4wTHFmZPhT0\n",
      "Processing video: https://www.youtube.com/watch?v=LsZ-nNy0ZRs\n",
      "Processing video: https://www.youtube.com/watch?v=4u55V_Yp-QI\n",
      "Processing video: https://www.youtube.com/watch?v=EZkDtcyPP6Q\n",
      "Processing video: https://www.youtube.com/watch?v=q48o3PXlg4Q\n",
      "Processing video: https://www.youtube.com/watch?v=nNwZA1X-C3c\n",
      "Processing video: https://www.youtube.com/watch?v=Z8KBxf4C8kk\n",
      "Processing video: https://www.youtube.com/watch?v=ieWyx2mlZyk\n",
      "Processing video: https://www.youtube.com/watch?v=FOoi8h47Tw4\n",
      "Processing video: https://www.youtube.com/watch?v=EJG6gBeVdfw\n",
      "Processing video: https://www.youtube.com/watch?v=jNtiENbAcFM\n",
      "Processing video: https://www.youtube.com/watch?v=s4c5LQ5a4ek\n",
      "Processing video: https://www.youtube.com/watch?v=9oh520TPa44\n",
      "Processing video: https://www.youtube.com/watch?v=MKXahTrgVso\n",
      "Processing video: https://www.youtube.com/watch?v=FdmppxbMf3g\n",
      "Processing video: https://www.youtube.com/watch?v=43b1ltFAwuc\n",
      "Processing video: https://www.youtube.com/watch?v=2dGXQwYDaqU\n",
      "Processing video: https://www.youtube.com/watch?v=0EX--joLoiM\n",
      "Processing video: https://www.youtube.com/watch?v=xJX5Y016ZEU\n",
      "Processing video: https://www.youtube.com/watch?v=LXE9NeaLQsc\n",
      "Processing video: https://www.youtube.com/watch?v=zti01DiImiQ\n",
      "Processing video: https://www.youtube.com/watch?v=jlnvodhtFPA\n",
      "Processing video: https://www.youtube.com/watch?v=bDUs-ar16OI\n"
     ]
    },
    {
     "name": "stderr",
     "output_type": "stream",
     "text": [
      "Processing YouTube playlists:  12%|█▎        | 1/8 [05:06<35:45, 306.53s/it]"
     ]
    },
    {
     "name": "stdout",
     "output_type": "stream",
     "text": [
      "Processing playlist: Gilbert Strang\n",
      "Getting videos from playlist: https://youtube.com/playlist?list=PL49CF3715CB9EF31D&si=R2vA4kB9MqWZndTW\n"
     ]
    },
    {
     "name": "stderr",
     "output_type": "stream",
     "text": [
      "WARNING: [youtube:tab] Incomplete data received. Retrying (1/3)...\n",
      "WARNING: [youtube:tab] Incomplete data received. Retrying (2/3)...\n",
      "WARNING: [youtube:tab] Incomplete data received. Retrying (3/3)...\n",
      "WARNING: [youtube:tab] Incomplete data received. Giving up after 3 retries\n"
     ]
    },
    {
     "name": "stdout",
     "output_type": "stream",
     "text": [
      "Processing video: https://www.youtube.com/watch?v=ZK3O402wf1c\n",
      "Processing video: https://www.youtube.com/watch?v=QVKj3LADCnA\n",
      "Processing video: https://www.youtube.com/watch?v=FX4C-JpTFgY\n",
      "Processing video: https://www.youtube.com/watch?v=5hO3MrzPa0A\n",
      "Processing video: https://www.youtube.com/watch?v=JibVXBElKL0\n",
      "Processing video: https://www.youtube.com/watch?v=8o5Cmfpeo6g\n",
      "Processing video: https://www.youtube.com/watch?v=VqP2tREMvt0\n",
      "Processing video: https://www.youtube.com/watch?v=9Q1q7s1jTzU\n",
      "Processing video: https://www.youtube.com/watch?v=yjBerM5jWsc\n",
      "Processing video: https://www.youtube.com/watch?v=nHlE7EgJFds\n",
      "Processing video: https://www.youtube.com/watch?v=2IdtqGM6KWU\n",
      "Processing video: https://www.youtube.com/watch?v=6-wh6yvk6uc\n",
      "Processing video: https://www.youtube.com/watch?v=l88D4r74gtM\n",
      "Processing video: https://www.youtube.com/watch?v=YzZUIYRCE38\n",
      "Processing video: https://www.youtube.com/watch?v=Y_Ac6KiQ1t0\n",
      "Processing video: https://www.youtube.com/watch?v=osh80YCg_GM\n",
      "Processing video: https://www.youtube.com/watch?v=uNsCkP9mgRk\n",
      "Processing video: https://www.youtube.com/watch?v=srxexLishgY\n",
      "Processing video: https://www.youtube.com/watch?v=23LLB9mNJvc\n",
      "Processing video: https://www.youtube.com/watch?v=QNpj-gOXW9M\n",
      "Processing video: https://www.youtube.com/watch?v=lXNXrLcoerU\n",
      "Processing video: https://www.youtube.com/watch?v=13r9QY6cmjc\n",
      "Processing video: https://www.youtube.com/watch?v=IZqwi0wJovM\n",
      "Processing video: https://www.youtube.com/watch?v=8MF3pz-oYHo\n",
      "Processing video: https://www.youtube.com/watch?v=sFxA8eIS6tA\n",
      "Processing video: https://www.youtube.com/watch?v=umt6BB1nJ4w\n",
      "Processing video: https://www.youtube.com/watch?v=M0Sa8fLOajA\n",
      "Processing video: https://www.youtube.com/watch?v=vF7eyJ2g3kU\n",
      "Processing video: https://www.youtube.com/watch?v=z_zYQHmrh08\n",
      "Processing video: https://www.youtube.com/watch?v=Nx0lRBaXoz4\n",
      "Processing video: https://www.youtube.com/watch?v=Ts3o2I8_Mxc\n",
      "Processing video: https://www.youtube.com/watch?v=vGkn-3NFGck\n",
      "Processing video: https://www.youtube.com/watch?v=HgC1l_6ySkc\n",
      "Processing video: https://www.youtube.com/watch?v=Go2aLo7ZOlU\n",
      "Processing video: https://www.youtube.com/watch?v=RWvi4Vx4CDc\n"
     ]
    },
    {
     "name": "stderr",
     "output_type": "stream",
     "text": [
      "Processing YouTube playlists:  25%|██▌       | 2/8 [07:17<20:19, 203.29s/it]"
     ]
    },
    {
     "name": "stdout",
     "output_type": "stream",
     "text": [
      "Processing playlist: 3blue1brown\n",
      "Getting videos from playlist: https://youtube.com/playlist?list=PLZHQObOWTQDPD3MizzM2xVFitgF8hE_ab&si=PDgpnXcwZEEdFe4G\n",
      "Processing video: https://www.youtube.com/watch?v=fNk_zzaMoSs\n",
      "Processing video: https://www.youtube.com/watch?v=k7RM-ot2NWY\n",
      "Processing video: https://www.youtube.com/watch?v=kYB8IZa5AuE\n",
      "Processing video: https://www.youtube.com/watch?v=XkY2DOUCWMU\n",
      "Processing video: https://www.youtube.com/watch?v=rHLEWRxRGiM\n",
      "Processing video: https://www.youtube.com/watch?v=Ip3X9LOh2dk\n",
      "Processing video: https://www.youtube.com/watch?v=uQhTuRlWMxw\n",
      "Processing video: https://www.youtube.com/watch?v=v8VSDg_WQlA\n",
      "Processing video: https://www.youtube.com/watch?v=LyGKycYT2v0\n",
      "Processing video: https://www.youtube.com/watch?v=eu6i7WJeinw\n",
      "Processing video: https://www.youtube.com/watch?v=BaM7OCEm3G0\n",
      "Processing video: https://www.youtube.com/watch?v=jBsC34PxzoM\n",
      "Processing video: https://www.youtube.com/watch?v=P2LTAUO1TdA\n",
      "Processing video: https://www.youtube.com/watch?v=PFDu9oVAE-g\n",
      "Processing video: https://www.youtube.com/watch?v=e50Bj7jn9IQ\n",
      "Processing video: https://www.youtube.com/watch?v=TgKwz5Ikpc8\n"
     ]
    },
    {
     "name": "stderr",
     "output_type": "stream",
     "text": [
      "Processing YouTube playlists:  38%|███▊      | 3/8 [08:17<11:28, 137.76s/it]"
     ]
    },
    {
     "name": "stdout",
     "output_type": "stream",
     "text": [
      "Processing playlist: Wrath of Math\n",
      "Getting videos from playlist: https://youtube.com/playlist?list=PLztBpqftvzxWT5z53AxSqkSaWDhAeToDG&si=ndRUFrIUIupQkpOj\n"
     ]
    },
    {
     "name": "stderr",
     "output_type": "stream",
     "text": [
      "WARNING: [youtube:tab] Incomplete data received. Retrying (1/3)...\n",
      "WARNING: [youtube:tab] Incomplete data received. Retrying (2/3)...\n",
      "WARNING: [youtube:tab] Incomplete data received. Retrying (3/3)...\n",
      "WARNING: [youtube:tab] Incomplete data received. Giving up after 3 retries\n"
     ]
    },
    {
     "name": "stdout",
     "output_type": "stream",
     "text": [
      "Processing video: https://www.youtube.com/watch?v=oXMPQ-6YnGA\n",
      "Processing video: https://www.youtube.com/watch?v=90YQb3Gajao\n",
      "Processing video: https://www.youtube.com/watch?v=seet9VyHo3Q\n",
      "Processing video: https://www.youtube.com/watch?v=CK65GbUTk4g\n",
      "Processing video: https://www.youtube.com/watch?v=AQ7QHwHYEy4\n",
      "Processing video: https://www.youtube.com/watch?v=FUVpa15NVcA\n",
      "Processing video: https://www.youtube.com/watch?v=jG9Swa-wCwg\n",
      "Processing video: https://www.youtube.com/watch?v=OuDA54fWk2o\n",
      "Processing video: https://www.youtube.com/watch?v=LqkPbcwuD2E\n",
      "Processing video: https://www.youtube.com/watch?v=JPwdkPZufe8\n",
      "Processing video: https://www.youtube.com/watch?v=S9UkD30WhQs\n",
      "Processing video: https://www.youtube.com/watch?v=vxB7bAJyL9c\n",
      "Processing video: https://www.youtube.com/watch?v=_OTHALdXLmc\n",
      "Processing video: https://www.youtube.com/watch?v=VAQNpUBwoAI\n",
      "Processing video: https://www.youtube.com/watch?v=6E8p0cglZ4E\n",
      "Processing video: https://www.youtube.com/watch?v=0CQ5uHSEcg8\n",
      "Processing video: https://www.youtube.com/watch?v=rciVZC629S4\n",
      "Processing video: https://www.youtube.com/watch?v=iMyxGcSkPBk\n",
      "Processing video: https://www.youtube.com/watch?v=N5kRmvFXhGQ\n",
      "Processing video: https://www.youtube.com/watch?v=9CNytNz7U9c\n",
      "Processing video: https://www.youtube.com/watch?v=DRHJh4wrLkY\n",
      "Processing video: https://www.youtube.com/watch?v=d8O8p843yrY\n",
      "Processing video: https://www.youtube.com/watch?v=7w6RpH5v0jA\n"
     ]
    },
    {
     "name": "stderr",
     "output_type": "stream",
     "text": [
      "ERROR: [youtube] 7w6RpH5v0jA: Join this channel from your computer or Android app to get access to members-only content like this video.\n"
     ]
    },
    {
     "name": "stdout",
     "output_type": "stream",
     "text": [
      "Error loading transcript for from https://www.youtube.com/watch?v=7w6RpH5v0jA: ERROR: [youtube] 7w6RpH5v0jA: Join this channel from your computer or Android app to get access to members-only content like this video.\n"
     ]
    },
    {
     "name": "stderr",
     "output_type": "stream",
     "text": [
      "ERROR: [youtube] 7w6RpH5v0jA: Join this channel from your computer or Android app to get access to members-only content like this video.\n",
      "Traceback (most recent call last):\n",
      "  File \"c:\\Users\\jonathan.kasprisin\\AppData\\Local\\miniconda3\\envs\\kg_ilp\\Lib\\site-packages\\yt_dlp\\YoutubeDL.py\", line 1634, in wrapper\n",
      "    return func(self, *args, **kwargs)\n",
      "           ^^^^^^^^^^^^^^^^^^^^^^^^^^^\n",
      "  File \"c:\\Users\\jonathan.kasprisin\\AppData\\Local\\miniconda3\\envs\\kg_ilp\\Lib\\site-packages\\yt_dlp\\YoutubeDL.py\", line 1769, in __extract_info\n",
      "    ie_result = ie.extract(url)\n",
      "                ^^^^^^^^^^^^^^^\n",
      "  File \"c:\\Users\\jonathan.kasprisin\\AppData\\Local\\miniconda3\\envs\\kg_ilp\\Lib\\site-packages\\yt_dlp\\extractor\\common.py\", line 742, in extract\n",
      "    ie_result = self._real_extract(url)\n",
      "                ^^^^^^^^^^^^^^^^^^^^^^^\n",
      "  File \"c:\\Users\\jonathan.kasprisin\\AppData\\Local\\miniconda3\\envs\\kg_ilp\\Lib\\site-packages\\yt_dlp\\extractor\\youtube.py\", line 4541, in _real_extract\n",
      "    self.raise_no_formats(reason, expected=True)\n",
      "  File \"c:\\Users\\jonathan.kasprisin\\AppData\\Local\\miniconda3\\envs\\kg_ilp\\Lib\\site-packages\\yt_dlp\\extractor\\common.py\", line 1276, in raise_no_formats\n",
      "    raise ExtractorError(msg, expected=expected, video_id=video_id)\n",
      "yt_dlp.utils.ExtractorError: [youtube] 7w6RpH5v0jA: Join this channel from your computer or Android app to get access to members-only content like this video.\n",
      "\n",
      "During handling of the above exception, another exception occurred:\n",
      "\n",
      "Traceback (most recent call last):\n",
      "  File \"C:\\Users\\jonathan.kasprisin\\AppData\\Local\\Temp\\ipykernel_41992\\1219865870.py\", line 32, in load_youtube_with_metadata\n",
      "    metadata = get_youtube_metadata(url)\n",
      "               ^^^^^^^^^^^^^^^^^^^^^^^^^\n",
      "  File \"C:\\Users\\jonathan.kasprisin\\AppData\\Local\\Temp\\ipykernel_41992\\1219865870.py\", line 11, in get_youtube_metadata\n",
      "    info_dict = ydl.extract_info(url, download=False)\n",
      "                ^^^^^^^^^^^^^^^^^^^^^^^^^^^^^^^^^^^^^\n",
      "  File \"c:\\Users\\jonathan.kasprisin\\AppData\\Local\\miniconda3\\envs\\kg_ilp\\Lib\\site-packages\\yt_dlp\\YoutubeDL.py\", line 1623, in extract_info\n",
      "    return self.__extract_info(url, self.get_info_extractor(key), download, extra_info, process)\n",
      "           ^^^^^^^^^^^^^^^^^^^^^^^^^^^^^^^^^^^^^^^^^^^^^^^^^^^^^^^^^^^^^^^^^^^^^^^^^^^^^^^^^^^^^\n",
      "  File \"c:\\Users\\jonathan.kasprisin\\AppData\\Local\\miniconda3\\envs\\kg_ilp\\Lib\\site-packages\\yt_dlp\\YoutubeDL.py\", line 1652, in wrapper\n",
      "    self.report_error(str(e), e.format_traceback())\n",
      "  File \"c:\\Users\\jonathan.kasprisin\\AppData\\Local\\miniconda3\\envs\\kg_ilp\\Lib\\site-packages\\yt_dlp\\YoutubeDL.py\", line 1092, in report_error\n",
      "    self.trouble(f'{self._format_err(\"ERROR:\", self.Styles.ERROR)} {message}', *args, **kwargs)\n",
      "  File \"c:\\Users\\jonathan.kasprisin\\AppData\\Local\\miniconda3\\envs\\kg_ilp\\Lib\\site-packages\\yt_dlp\\YoutubeDL.py\", line 1031, in trouble\n",
      "    raise DownloadError(message, exc_info)\n",
      "yt_dlp.utils.DownloadError: ERROR: [youtube] 7w6RpH5v0jA: Join this channel from your computer or Android app to get access to members-only content like this video.\n",
      "\n",
      "During handling of the above exception, another exception occurred:\n",
      "\n",
      "Traceback (most recent call last):\n",
      "  File \"c:\\Users\\jonathan.kasprisin\\AppData\\Local\\miniconda3\\envs\\kg_ilp\\Lib\\site-packages\\yt_dlp\\YoutubeDL.py\", line 1634, in wrapper\n",
      "    return func(self, *args, **kwargs)\n",
      "           ^^^^^^^^^^^^^^^^^^^^^^^^^^^\n",
      "  File \"c:\\Users\\jonathan.kasprisin\\AppData\\Local\\miniconda3\\envs\\kg_ilp\\Lib\\site-packages\\yt_dlp\\YoutubeDL.py\", line 1769, in __extract_info\n",
      "    ie_result = ie.extract(url)\n",
      "                ^^^^^^^^^^^^^^^\n",
      "  File \"c:\\Users\\jonathan.kasprisin\\AppData\\Local\\miniconda3\\envs\\kg_ilp\\Lib\\site-packages\\yt_dlp\\extractor\\common.py\", line 742, in extract\n",
      "    ie_result = self._real_extract(url)\n",
      "                ^^^^^^^^^^^^^^^^^^^^^^^\n",
      "  File \"c:\\Users\\jonathan.kasprisin\\AppData\\Local\\miniconda3\\envs\\kg_ilp\\Lib\\site-packages\\yt_dlp\\extractor\\youtube.py\", line 4541, in _real_extract\n",
      "    self.raise_no_formats(reason, expected=True)\n",
      "  File \"c:\\Users\\jonathan.kasprisin\\AppData\\Local\\miniconda3\\envs\\kg_ilp\\Lib\\site-packages\\yt_dlp\\extractor\\common.py\", line 1276, in raise_no_formats\n",
      "    raise ExtractorError(msg, expected=expected, video_id=video_id)\n",
      "yt_dlp.utils.ExtractorError: [youtube] 7w6RpH5v0jA: Join this channel from your computer or Android app to get access to members-only content like this video.\n",
      "\n",
      "During handling of the above exception, another exception occurred:\n",
      "\n",
      "Traceback (most recent call last):\n",
      "  File \"C:\\Users\\jonathan.kasprisin\\AppData\\Local\\Temp\\ipykernel_41992\\4087268214.py\", line 9, in <module>\n",
      "    yt_docs, error_list = process_youtube_playlist(playlist['url'])\n",
      "                          ^^^^^^^^^^^^^^^^^^^^^^^^^^^^^^^^^^^^^^^^^\n",
      "  File \"C:\\Users\\jonathan.kasprisin\\AppData\\Local\\Temp\\ipykernel_41992\\1219865870.py\", line 86, in process_youtube_playlist\n",
      "    yt_docs, error_from_load = load_youtube_with_metadata(url, sequence)\n",
      "                               ^^^^^^^^^^^^^^^^^^^^^^^^^^^^^^^^^^^^^^^^^\n",
      "  File \"C:\\Users\\jonathan.kasprisin\\AppData\\Local\\Temp\\ipykernel_41992\\1219865870.py\", line 41, in load_youtube_with_metadata\n",
      "    metadata = get_youtube_metadata(url)\n",
      "               ^^^^^^^^^^^^^^^^^^^^^^^^^\n",
      "  File \"C:\\Users\\jonathan.kasprisin\\AppData\\Local\\Temp\\ipykernel_41992\\1219865870.py\", line 11, in get_youtube_metadata\n",
      "    info_dict = ydl.extract_info(url, download=False)\n",
      "                ^^^^^^^^^^^^^^^^^^^^^^^^^^^^^^^^^^^^^\n",
      "  File \"c:\\Users\\jonathan.kasprisin\\AppData\\Local\\miniconda3\\envs\\kg_ilp\\Lib\\site-packages\\yt_dlp\\YoutubeDL.py\", line 1623, in extract_info\n",
      "    return self.__extract_info(url, self.get_info_extractor(key), download, extra_info, process)\n",
      "           ^^^^^^^^^^^^^^^^^^^^^^^^^^^^^^^^^^^^^^^^^^^^^^^^^^^^^^^^^^^^^^^^^^^^^^^^^^^^^^^^^^^^^\n",
      "  File \"c:\\Users\\jonathan.kasprisin\\AppData\\Local\\miniconda3\\envs\\kg_ilp\\Lib\\site-packages\\yt_dlp\\YoutubeDL.py\", line 1652, in wrapper\n",
      "    self.report_error(str(e), e.format_traceback())\n",
      "  File \"c:\\Users\\jonathan.kasprisin\\AppData\\Local\\miniconda3\\envs\\kg_ilp\\Lib\\site-packages\\yt_dlp\\YoutubeDL.py\", line 1092, in report_error\n",
      "    self.trouble(f'{self._format_err(\"ERROR:\", self.Styles.ERROR)} {message}', *args, **kwargs)\n",
      "  File \"c:\\Users\\jonathan.kasprisin\\AppData\\Local\\miniconda3\\envs\\kg_ilp\\Lib\\site-packages\\yt_dlp\\YoutubeDL.py\", line 1031, in trouble\n",
      "    raise DownloadError(message, exc_info)\n",
      "yt_dlp.utils.DownloadError: ERROR: [youtube] 7w6RpH5v0jA: Join this channel from your computer or Android app to get access to members-only content like this video.\n",
      "Processing YouTube playlists:  50%|█████     | 4/8 [09:43<07:48, 117.21s/it]"
     ]
    },
    {
     "name": "stdout",
     "output_type": "stream",
     "text": [
      "Error processing playlist: Wrath of Math: ERROR: [youtube] 7w6RpH5v0jA: Join this channel from your computer or Android app to get access to members-only content like this video.\n",
      "Processing playlist: Adam Panagos\n",
      "Getting videos from playlist: https://youtube.com/playlist?list=PLdciPPorsHuk3Hp7QPPAtTkpW0o1UXQB6&si=A_H3aALHmU-rI4Ki\n"
     ]
    },
    {
     "name": "stderr",
     "output_type": "stream",
     "text": [
      "WARNING: [youtube:tab] Incomplete data received. Retrying (1/3)...\n",
      "WARNING: [youtube:tab] Incomplete data received. Retrying (2/3)...\n",
      "WARNING: [youtube:tab] Incomplete data received. Retrying (3/3)...\n",
      "WARNING: [youtube:tab] Incomplete data received. Giving up after 3 retries\n"
     ]
    },
    {
     "name": "stdout",
     "output_type": "stream",
     "text": [
      "Processing video: https://www.youtube.com/watch?v=Fg6B01vEN3U\n",
      "Processing video: https://www.youtube.com/watch?v=YCyItKPDcSo\n",
      "Processing video: https://www.youtube.com/watch?v=FeGVpk96UqY\n",
      "Processing video: https://www.youtube.com/watch?v=VkYmaBhikYY\n",
      "Processing video: https://www.youtube.com/watch?v=A4GoV2d21Ok\n",
      "Processing video: https://www.youtube.com/watch?v=KFSkWm47Trs\n",
      "Processing video: https://www.youtube.com/watch?v=jVw-OCy0Rqs\n",
      "Processing video: https://www.youtube.com/watch?v=HXViJHadfhE\n",
      "Processing video: https://www.youtube.com/watch?v=Bw0-UqZ_xnY\n",
      "Processing video: https://www.youtube.com/watch?v=aK9GmG2_o9k\n",
      "Processing video: https://www.youtube.com/watch?v=h4OiYfAHbqM\n",
      "Processing video: https://www.youtube.com/watch?v=3TOmlY8dcXA\n",
      "Processing video: https://www.youtube.com/watch?v=AGSajg1m-FU\n",
      "Processing video: https://www.youtube.com/watch?v=tkyrhKRVbBw\n",
      "Processing video: https://www.youtube.com/watch?v=rQZD3RM9ic0\n",
      "Processing video: https://www.youtube.com/watch?v=y6a5fEfTXB0\n",
      "Processing video: https://www.youtube.com/watch?v=5E7M7NeAIWk\n",
      "Processing video: https://www.youtube.com/watch?v=ztjvnzjejwk\n",
      "Processing video: https://www.youtube.com/watch?v=61knWwBM3gQ\n",
      "Processing video: https://www.youtube.com/watch?v=J2bjzpyW6ro\n",
      "Processing video: https://www.youtube.com/watch?v=3HB16IOEZRc\n",
      "Processing video: https://www.youtube.com/watch?v=Dga_4EA_QBE\n",
      "Processing video: https://www.youtube.com/watch?v=53KDr8y7VnQ\n",
      "Processing video: https://www.youtube.com/watch?v=-M0kHX-rIv4\n",
      "Processing video: https://www.youtube.com/watch?v=-n8QFEgnLk4\n",
      "Processing video: https://www.youtube.com/watch?v=pIU37j11PiA\n",
      "Processing video: https://www.youtube.com/watch?v=1CO4d5r1Rxk\n",
      "Processing video: https://www.youtube.com/watch?v=otCkObOqxkc\n",
      "Processing video: https://www.youtube.com/watch?v=iMZA4p7Wou0\n",
      "Processing video: https://www.youtube.com/watch?v=4AP4uC5tWsc\n",
      "Processing video: https://www.youtube.com/watch?v=l_Nk4TbLoMk\n",
      "Processing video: https://www.youtube.com/watch?v=agocAyDugJI\n",
      "Processing video: https://www.youtube.com/watch?v=pBZ98bm191o\n",
      "Processing video: https://www.youtube.com/watch?v=iiQRuh6PbTY\n",
      "Processing video: https://www.youtube.com/watch?v=R8i_DRd8XUA\n",
      "Processing video: https://www.youtube.com/watch?v=YmaGdt_7g9g\n",
      "Processing video: https://www.youtube.com/watch?v=k3CnCq9b65M\n",
      "Processing video: https://www.youtube.com/watch?v=q97HmMdD8ZM\n",
      "Processing video: https://www.youtube.com/watch?v=nGEgsgnbdLc\n",
      "Processing video: https://www.youtube.com/watch?v=v6HYbBDcu1Y\n",
      "Processing video: https://www.youtube.com/watch?v=UcunJ9cZN9Q\n",
      "Processing video: https://www.youtube.com/watch?v=y5fsXd1PPAI\n",
      "Processing video: https://www.youtube.com/watch?v=0oSe9vx-W54\n",
      "Processing video: https://www.youtube.com/watch?v=9FNq-YCQAus\n",
      "Processing video: https://www.youtube.com/watch?v=_B3rc3Vys4o\n",
      "Processing video: https://www.youtube.com/watch?v=3l3qfs2vINE\n",
      "Processing video: https://www.youtube.com/watch?v=vejkdUigyIg\n",
      "Processing video: https://www.youtube.com/watch?v=7P_XGrb3d3c\n",
      "Processing video: https://www.youtube.com/watch?v=4sBXY1BCU3w\n",
      "Processing video: https://www.youtube.com/watch?v=VG4-8yW3Ce8\n",
      "Processing video: https://www.youtube.com/watch?v=2K6ipONMIgg\n",
      "Processing video: https://www.youtube.com/watch?v=kfVI7Tp98WM\n",
      "Processing video: https://www.youtube.com/watch?v=oefqNuzifsU\n",
      "Processing video: https://www.youtube.com/watch?v=QKUTMFezD1A\n",
      "Processing video: https://www.youtube.com/watch?v=LxAXqorS4ow\n",
      "Processing video: https://www.youtube.com/watch?v=gb9rdXH2FSY\n",
      "Processing video: https://www.youtube.com/watch?v=bqIwOQYOepU\n",
      "Processing video: https://www.youtube.com/watch?v=hIoAcfPfPoM\n",
      "Processing video: https://www.youtube.com/watch?v=cHOsd2PhkqE\n",
      "Processing video: https://www.youtube.com/watch?v=9Q_0tOh50ec\n",
      "Processing video: https://www.youtube.com/watch?v=gUe_aVtVThg\n",
      "Processing video: https://www.youtube.com/watch?v=gWLmpB96FQU\n",
      "Processing video: https://www.youtube.com/watch?v=vd6k_c9vD30\n",
      "Processing video: https://www.youtube.com/watch?v=zEoHJfiQvt8\n",
      "Processing video: https://www.youtube.com/watch?v=yBiQh1vsCLU\n"
     ]
    },
    {
     "name": "stderr",
     "output_type": "stream",
     "text": [
      "Processing YouTube playlists:  62%|██████▎   | 5/8 [13:46<08:07, 162.65s/it]"
     ]
    },
    {
     "name": "stdout",
     "output_type": "stream",
     "text": [
      "Processing playlist: James Hamblin\n",
      "Getting videos from playlist: https://youtube.com/playlist?list=PLNr8B4XHL5kGDHOrU4IeI6QNuZHur4F86&si=S16_paArJ6zCje6f\n"
     ]
    },
    {
     "name": "stderr",
     "output_type": "stream",
     "text": [
      "WARNING: [youtube:tab] Incomplete data received. Retrying (1/3)...\n",
      "WARNING: [youtube:tab] Incomplete data received. Retrying (2/3)...\n",
      "WARNING: [youtube:tab] Incomplete data received. Retrying (3/3)...\n",
      "WARNING: [youtube:tab] Incomplete data received. Giving up after 3 retries\n"
     ]
    },
    {
     "name": "stdout",
     "output_type": "stream",
     "text": [
      "Processing video: https://www.youtube.com/watch?v=HAoL5fPmgrw\n",
      "Processing video: https://www.youtube.com/watch?v=M13AmBUVQNc\n",
      "Processing video: https://www.youtube.com/watch?v=x1CEVwn7Gnw\n",
      "Processing video: https://www.youtube.com/watch?v=eXL8m865QeM\n",
      "Processing video: https://www.youtube.com/watch?v=72ysuwtYA0c\n",
      "Processing video: https://www.youtube.com/watch?v=kDbBTFvQgig\n",
      "Processing video: https://www.youtube.com/watch?v=rSOST47KjRk\n",
      "Processing video: https://www.youtube.com/watch?v=rfdVVxFbklM\n",
      "Processing video: https://www.youtube.com/watch?v=qxRfVcJUihM\n",
      "Processing video: https://www.youtube.com/watch?v=OpcznwRgUaY\n",
      "Processing video: https://www.youtube.com/watch?v=OyqOfbeEhL0\n",
      "Processing video: https://www.youtube.com/watch?v=4P1YUKPIc4w\n",
      "Processing video: https://www.youtube.com/watch?v=Y8gB7nvtmrU\n",
      "Processing video: https://www.youtube.com/watch?v=QdzOpzQ2pOQ\n",
      "Processing video: https://www.youtube.com/watch?v=YqWpjR8IBFg\n",
      "Processing video: https://www.youtube.com/watch?v=ZBLfZ6BYGf4\n",
      "Processing video: https://www.youtube.com/watch?v=eHoKS4Ccd74\n",
      "Processing video: https://www.youtube.com/watch?v=KE7xHcwfxzQ\n",
      "Processing video: https://www.youtube.com/watch?v=prgzcrjaJCs\n",
      "Processing video: https://www.youtube.com/watch?v=OVUJdHvY4VA\n",
      "Processing video: https://www.youtube.com/watch?v=FwEwt2ApkFw\n",
      "Processing video: https://www.youtube.com/watch?v=a7KC9Jx5qlM\n",
      "Processing video: https://www.youtube.com/watch?v=xuulVLujY1w\n",
      "Processing video: https://www.youtube.com/watch?v=tgjzt2Kyzfk\n",
      "Processing video: https://www.youtube.com/watch?v=uHuXiJ6j0tE\n",
      "Processing video: https://www.youtube.com/watch?v=mGYEH43pGCY\n",
      "Processing video: https://www.youtube.com/watch?v=816qz2jHZp0\n",
      "Processing video: https://www.youtube.com/watch?v=e8gUCLislz0\n",
      "Processing video: https://www.youtube.com/watch?v=cMt5RQPdb5I\n",
      "Processing video: https://www.youtube.com/watch?v=4eZA0GTbZN0\n",
      "Processing video: https://www.youtube.com/watch?v=lZd-twKmnmg\n",
      "Processing video: https://www.youtube.com/watch?v=7U_cBQzMgGk\n",
      "Processing video: https://www.youtube.com/watch?v=1b857qTFTgw\n",
      "Processing video: https://www.youtube.com/watch?v=SLdeaJo1nbI\n",
      "Processing video: https://www.youtube.com/watch?v=QK7ADeRu7Z8\n",
      "Processing video: https://www.youtube.com/watch?v=sYkojeGZ_vE\n",
      "Processing video: https://www.youtube.com/watch?v=XIZxlNvAAjo\n",
      "Processing video: https://www.youtube.com/watch?v=6Hh6O3eu398\n",
      "Processing video: https://www.youtube.com/watch?v=M1Cyte75934\n",
      "Processing video: https://www.youtube.com/watch?v=yEKmEtmXCU8\n",
      "Processing video: https://www.youtube.com/watch?v=p1-UN-roESM\n",
      "Processing video: https://www.youtube.com/watch?v=rnNxUekd3B4\n",
      "Processing video: https://www.youtube.com/watch?v=aYrGqf4IsXI\n",
      "Processing video: https://www.youtube.com/watch?v=gJnk3tt4w5I\n",
      "Processing video: https://www.youtube.com/watch?v=enWNFOfudYw\n",
      "Processing video: https://www.youtube.com/watch?v=4UqfWcio_pI\n",
      "Processing video: https://www.youtube.com/watch?v=v74fyuqzXTQ\n",
      "Processing video: https://www.youtube.com/watch?v=_0dpEdapucU\n",
      "Processing video: https://www.youtube.com/watch?v=YX8hxX_-wDo\n",
      "Processing video: https://www.youtube.com/watch?v=qf1xSFNIS-M\n"
     ]
    },
    {
     "name": "stderr",
     "output_type": "stream",
     "text": [
      "Processing YouTube playlists:  75%|███████▌  | 6/8 [16:54<05:42, 171.32s/it]"
     ]
    },
    {
     "name": "stdout",
     "output_type": "stream",
     "text": [
      "Processing playlist: Kimberly Brehm\n",
      "Getting videos from playlist: https://youtube.com/playlist?list=PLl-gb0E4MII03hiCrZa7YqxUMEeEPmZqK&si=tnpBY3NExUXLfxnr\n"
     ]
    },
    {
     "name": "stderr",
     "output_type": "stream",
     "text": [
      "WARNING: [youtube:tab] Incomplete data received. Retrying (1/3)...\n",
      "WARNING: [youtube:tab] Incomplete data received. Retrying (2/3)...\n",
      "WARNING: [youtube:tab] Incomplete data received. Retrying (3/3)...\n",
      "WARNING: [youtube:tab] Incomplete data received. Giving up after 3 retries\n"
     ]
    },
    {
     "name": "stdout",
     "output_type": "stream",
     "text": [
      "Processing video: https://www.youtube.com/watch?v=LHsPJ2bQX1U\n",
      "Processing video: https://www.youtube.com/watch?v=SEh3yhEFK1w\n",
      "Processing video: https://www.youtube.com/watch?v=7xtAYrAtuPc\n",
      "Processing video: https://www.youtube.com/watch?v=MfeOEdjUfXw\n",
      "Processing video: https://www.youtube.com/watch?v=ztsT5uoWeEE\n",
      "Processing video: https://www.youtube.com/watch?v=9QXnOwSOoWA\n",
      "Processing video: https://www.youtube.com/watch?v=kcBufqZgP4s\n",
      "Processing video: https://www.youtube.com/watch?v=mH3Me8P-CO8\n",
      "Processing video: https://www.youtube.com/watch?v=ODOztJ6YRUM\n",
      "Processing video: https://www.youtube.com/watch?v=jsyutdYtOc4\n",
      "Processing video: https://www.youtube.com/watch?v=Ju6Z90Spme0\n",
      "Processing video: https://www.youtube.com/watch?v=Vk5Iun6sxhM\n",
      "Processing video: https://www.youtube.com/watch?v=ofGN1Gtgjok\n",
      "Processing video: https://www.youtube.com/watch?v=EdLoNRo0s28\n",
      "Processing video: https://www.youtube.com/watch?v=oo2ej9M49Tw\n",
      "Processing video: https://www.youtube.com/watch?v=ofAcvZVEfBk\n",
      "Processing video: https://www.youtube.com/watch?v=dFc2XK9dyNs\n",
      "Processing video: https://www.youtube.com/watch?v=RM24OPadFMA\n",
      "Processing video: https://www.youtube.com/watch?v=kCPmiFAdCQ0\n",
      "Processing video: https://www.youtube.com/watch?v=XE1WlvE1Iig\n",
      "Processing video: https://www.youtube.com/watch?v=zcm8plpCUZI\n",
      "Processing video: https://www.youtube.com/watch?v=Ht2Zl0Hfg_I\n",
      "Processing video: https://www.youtube.com/watch?v=UWaeMiP_vK8\n",
      "Processing video: https://www.youtube.com/watch?v=bTf1ixziEO4\n",
      "Processing video: https://www.youtube.com/watch?v=9NRmIEbuSq8\n",
      "Processing video: https://www.youtube.com/watch?v=QMwwplztQfY\n",
      "Processing video: https://www.youtube.com/watch?v=2Ee2B1Jp5ZE\n",
      "Processing video: https://www.youtube.com/watch?v=Dn7pcKMrU0s\n",
      "Processing video: https://www.youtube.com/watch?v=2L0qOtgu9eE\n",
      "Processing video: https://www.youtube.com/watch?v=lOyFbpemz58\n",
      "Processing video: https://www.youtube.com/watch?v=atwUmR-qpfk\n",
      "Processing video: https://www.youtube.com/watch?v=jk6YPdIIJUg\n",
      "Processing video: https://www.youtube.com/watch?v=lgKR0iJi7Ww\n",
      "Processing video: https://www.youtube.com/watch?v=4TpVjdY8uGc\n",
      "Processing video: https://www.youtube.com/watch?v=1MYkWhpuLtY\n",
      "Processing video: https://www.youtube.com/watch?v=yh5ABTeNUpE\n",
      "Processing video: https://www.youtube.com/watch?v=g4pC_MQagg8\n",
      "Processing video: https://www.youtube.com/watch?v=XMWBC5_rFpI\n",
      "Processing video: https://www.youtube.com/watch?v=a7KAdb2zqvg\n",
      "Processing video: https://www.youtube.com/watch?v=C2iKgnGby0I\n",
      "Processing video: https://www.youtube.com/watch?v=4yNrSg7b4JA\n",
      "Processing video: https://www.youtube.com/watch?v=zd1hPXMwWhs\n",
      "Processing video: https://www.youtube.com/watch?v=fqbwErsP8Xw\n",
      "Processing video: https://www.youtube.com/watch?v=fkWCkdBualw\n",
      "Processing video: https://www.youtube.com/watch?v=tDAH7TZICT8\n",
      "Processing video: https://www.youtube.com/watch?v=o0N5VVX6K9Y\n"
     ]
    },
    {
     "name": "stderr",
     "output_type": "stream",
     "text": [
      "Processing YouTube playlists:  88%|████████▊ | 7/8 [19:45<02:51, 171.27s/it]"
     ]
    },
    {
     "name": "stdout",
     "output_type": "stream",
     "text": [
      "Processing playlist: Khan Academy\n",
      "Getting videos from playlist: https://youtube.com/playlist?list=PLFD0EB975BA0CC1E0&si=XXQHp8tUdTLqd21-\n",
      "Processing video: https://www.youtube.com/watch?v=xyAuNHPsq-g\n",
      "Processing video: https://www.youtube.com/watch?v=aKhhYguY0DQ\n",
      "Processing video: https://www.youtube.com/watch?v=OAh573i_qn8\n",
      "Processing video: https://www.youtube.com/watch?v=iUQR0enP7RQ\n",
      "Processing video: https://www.youtube.com/watch?v=S4n-tQZnU6o\n",
      "Processing video: https://www.youtube.com/watch?v=obts_JDS6_Q\n",
      "Processing video: https://www.youtube.com/watch?v=AUqeb9Z3y3k\n",
      "Processing video: https://www.youtube.com/watch?v=gsNgdVdAT1o\n",
      "Processing video: https://www.youtube.com/watch?v=UqyN7-tRS00\n",
      "Processing video: https://www.youtube.com/watch?v=5tB7y_piK6o\n",
      "Processing video: https://www.youtube.com/watch?v=woqq3Sls1d8\n",
      "Processing video: https://www.youtube.com/watch?v=5cWB52I-SF0\n",
      "Processing video: https://www.youtube.com/watch?v=r4bH66vYjss\n",
      "Processing video: https://www.youtube.com/watch?v=hWhs2cIj7Cw\n",
      "Processing video: https://www.youtube.com/watch?v=Qm_OS-8COwU\n",
      "Processing video: https://www.youtube.com/watch?v=CrV1xCWdY-g\n",
      "Processing video: https://www.youtube.com/watch?v=Alhcv5d_XOs\n",
      "Processing video: https://www.youtube.com/watch?v=9kW6zFK5E5c\n",
      "Processing video: https://www.youtube.com/watch?v=pMFv6liWK4M\n",
      "Processing video: https://www.youtube.com/watch?v=zntNi3-ybfQ\n",
      "Processing video: https://www.youtube.com/watch?v=WNuIhXo39_k\n",
      "Processing video: https://www.youtube.com/watch?v=rVQ3G9epCjw\n",
      "Processing video: https://www.youtube.com/watch?v=r2PogGDl8_U\n",
      "Processing video: https://www.youtube.com/watch?v=PsNidCBr5II\n",
      "Processing video: https://www.youtube.com/watch?v=5AWob_z74Ks\n",
      "Processing video: https://www.youtube.com/watch?v=UJxgcVaNTqY\n",
      "Processing video: https://www.youtube.com/watch?v=pJzmiywagfY\n",
      "Processing video: https://www.youtube.com/watch?v=7MKA2QlKvHc\n",
      "Processing video: https://www.youtube.com/watch?v=tdwFdzVqito\n",
      "Processing video: https://www.youtube.com/watch?v=L0CmbneYETs\n",
      "Processing video: https://www.youtube.com/watch?v=lP1DGtZ8Wys\n",
      "Processing video: https://www.youtube.com/watch?v=JVDrlTdzxiI\n",
      "Processing video: https://www.youtube.com/watch?v=7Mo4S2wyMg4\n",
      "Processing video: https://www.youtube.com/watch?v=jCwRV1QL_Xs\n",
      "Processing video: https://www.youtube.com/watch?v=qvyboGryeA8\n",
      "Processing video: https://www.youtube.com/watch?v=vFctYRhK2M0\n",
      "Processing video: https://www.youtube.com/watch?v=st6D5OdFV9M\n",
      "Processing video: https://www.youtube.com/watch?v=_uTAdf_AsfQ\n",
      "Processing video: https://www.youtube.com/watch?v=EGNlXtjYABw\n",
      "Processing video: https://www.youtube.com/watch?v=Zn2K8UIT8r4\n",
      "Processing video: https://www.youtube.com/watch?v=abYAUqs_n6I\n",
      "Processing video: https://www.youtube.com/watch?v=JUgrBkPteTg\n",
      "Processing video: https://www.youtube.com/watch?v=BfVjTOjvI30\n",
      "Processing video: https://www.youtube.com/watch?v=CkQOCnLWPUA\n",
      "Processing video: https://www.youtube.com/watch?v=BQMyeQOLvpg\n",
      "Processing video: https://www.youtube.com/watch?v=gAbadNuQEjI\n",
      "Processing video: https://www.youtube.com/watch?v=4PCktDZJH8E\n",
      "Processing video: https://www.youtube.com/watch?v=ondmopWLiEg\n",
      "Processing video: https://www.youtube.com/watch?v=PErhLkQcpZ8\n",
      "Processing video: https://www.youtube.com/watch?v=MIAmN5kgp3k\n",
      "Processing video: https://www.youtube.com/watch?v=hZ827mfh1Jo\n",
      "Processing video: https://www.youtube.com/watch?v=zVsGtU8lIWs\n",
      "Processing video: https://www.youtube.com/watch?v=6yrPU8rYOhs\n",
      "Processing video: https://www.youtube.com/watch?v=wHuY97vss18\n",
      "Processing video: https://www.youtube.com/watch?v=Z19-ObbmHJE\n",
      "Processing video: https://www.youtube.com/watch?v=qkfODKmZ-x4\n",
      "Processing video: https://www.youtube.com/watch?v=lPWfIq5DzqI\n",
      "Processing video: https://www.youtube.com/watch?v=gkyuLPzfDV0\n",
      "Processing video: https://www.youtube.com/watch?v=lQn7fksaDq0\n",
      "Processing video: https://www.youtube.com/watch?v=27vT-NWuw0M\n",
      "Processing video: https://www.youtube.com/watch?v=JK-8XNIoAkI\n",
      "Processing video: https://www.youtube.com/watch?v=f_DTiXZpb8M\n",
      "Processing video: https://www.youtube.com/watch?v=BuqcKpe5ZQs\n",
      "Processing video: https://www.youtube.com/watch?v=x1z0hOyjapU\n",
      "Processing video: https://www.youtube.com/watch?v=Hhc96U_HvQE\n",
      "Processing video: https://www.youtube.com/watch?v=oMWTMj78cwc\n",
      "Processing video: https://www.youtube.com/watch?v=-eAzhBZgq28\n",
      "Processing video: https://www.youtube.com/watch?v=7GEUgRcnfVE\n",
      "Processing video: https://www.youtube.com/watch?v=xKNX8BUWR0g\n",
      "Processing video: https://www.youtube.com/watch?v=QIU1daMN8fw\n",
      "Processing video: https://www.youtube.com/watch?v=eR8vEdJTvd0\n",
      "Processing video: https://www.youtube.com/watch?v=1PsNIzUJPkc\n",
      "Processing video: https://www.youtube.com/watch?v=M3FuL9qKTBs\n",
      "Processing video: https://www.youtube.com/watch?v=Yz2OosyMTmY\n",
      "Processing video: https://www.youtube.com/watch?v=mr9Tow8hpCg\n",
      "Processing video: https://www.youtube.com/watch?v=6DpzCKJBsz0\n",
      "Processing video: https://www.youtube.com/watch?v=r9aTLTN16V4\n",
      "Processing video: https://www.youtube.com/watch?v=eEUK_ThrHuQ\n",
      "Processing video: https://www.youtube.com/watch?v=0c7dt2SQfLw\n",
      "Processing video: https://www.youtube.com/watch?v=H9BWRYJNIv4\n",
      "Processing video: https://www.youtube.com/watch?v=nu87kfmwNfU\n",
      "Processing video: https://www.youtube.com/watch?v=4xFIi0JF2AM\n",
      "Processing video: https://www.youtube.com/watch?v=32rdijPB-rA\n",
      "Processing video: https://www.youtube.com/watch?v=WY6QG0mZ7uQ\n",
      "Processing video: https://www.youtube.com/watch?v=VrB3LaSD_uo\n",
      "Processing video: https://www.youtube.com/watch?v=gYv8sttBIqs\n",
      "Processing video: https://www.youtube.com/watch?v=kpG7xySkivg\n",
      "Processing video: https://www.youtube.com/watch?v=VX7K8iqoiRc\n",
      "Processing video: https://www.youtube.com/watch?v=QV0jsTiobU4\n",
      "Processing video: https://www.youtube.com/watch?v=n-S63_goDFg\n",
      "Processing video: https://www.youtube.com/watch?v=g3MqSdO5Ubc\n",
      "Processing video: https://www.youtube.com/watch?v=2t0003_sxtU\n",
      "Processing video: https://www.youtube.com/watch?v=x-GV2v0dRNE\n",
      "Processing video: https://www.youtube.com/watch?v=UdHgWK13x5I\n",
      "Processing video: https://www.youtube.com/watch?v=Br_8t58mdeI\n",
      "Processing video: https://www.youtube.com/watch?v=lSoaMCNKfAg\n",
      "Processing video: https://www.youtube.com/watch?v=qBfc57x_RSg\n",
      "Processing video: https://www.youtube.com/watch?v=GW8ZPjGlk24\n",
      "Processing video: https://www.youtube.com/watch?v=QOTjdgmNqlg\n",
      "Processing video: https://www.youtube.com/watch?v=tqqVOWm9YsU\n",
      "Processing video: https://www.youtube.com/watch?v=pGhBfkBqok0\n",
      "Processing video: https://www.youtube.com/watch?v=M6lFqkqvUgo\n",
      "Processing video: https://www.youtube.com/watch?v=zlI8mx8Hc8o\n",
      "Processing video: https://www.youtube.com/watch?v=LE_aQAur7nI\n",
      "Processing video: https://www.youtube.com/watch?v=czIYvs9zj2g\n",
      "Processing video: https://www.youtube.com/watch?v=qdf2CuMGdKs\n",
      "Processing video: https://www.youtube.com/watch?v=qdf2CuMGdKs\n",
      "Processing video: https://www.youtube.com/watch?v=ESSMQH6Y5OA\n",
      "Processing video: https://www.youtube.com/watch?v=5B8XluiqdHM\n",
      "Processing video: https://www.youtube.com/watch?v=uWbZlJURkfA\n",
      "Processing video: https://www.youtube.com/watch?v=cTyNpXB92bQ\n",
      "Processing video: https://www.youtube.com/watch?v=QTcSBB3uVP0\n",
      "Processing video: https://www.youtube.com/watch?v=XhCSHu6dHb8\n",
      "Processing video: https://www.youtube.com/watch?v=b269qpILOpk\n",
      "Processing video: https://www.youtube.com/watch?v=MC7l96tW8V8\n",
      "Processing video: https://www.youtube.com/watch?v=8mAZYv5wIcE\n",
      "Processing video: https://www.youtube.com/watch?v=QkepM8Vv3kw\n",
      "Processing video: https://www.youtube.com/watch?v=uvgru6FcyxU\n",
      "Processing video: https://www.youtube.com/watch?v=1j5WnqwMdCk\n",
      "Processing video: https://www.youtube.com/watch?v=meibWcbGqt4\n",
      "Processing video: https://www.youtube.com/watch?v=PiuhTj0zCf4\n",
      "Processing video: https://www.youtube.com/watch?v=lCRGNykWqFI\n",
      "Processing video: https://www.youtube.com/watch?v=EyORbCPUAd4\n",
      "Processing video: https://www.youtube.com/watch?v=K_na_j1Msfg\n",
      "Processing video: https://www.youtube.com/watch?v=7BFx8pt2aTQ\n",
      "Processing video: https://www.youtube.com/watch?v=SWbis2zWIvo\n",
      "Processing video: https://www.youtube.com/watch?v=we829K4NOq8\n",
      "Processing video: https://www.youtube.com/watch?v=SUoqA9srY1Q\n",
      "Processing video: https://www.youtube.com/watch?v=gfVY7cW7VLQ\n",
      "Processing video: https://www.youtube.com/watch?v=yDwIfYjKEeo\n",
      "Processing video: https://www.youtube.com/watch?v=rHonltF77zI\n",
      "Processing video: https://www.youtube.com/watch?v=tu1GPtfsQ7M\n",
      "Processing video: https://www.youtube.com/watch?v=ZRRG386v6DI\n",
      "Processing video: https://www.youtube.com/watch?v=PhfbEr2btGQ\n",
      "Processing video: https://www.youtube.com/watch?v=rfm0wQObxjk\n",
      "Processing video: https://www.youtube.com/watch?v=pZ6mMVEE89g\n",
      "Processing video: https://www.youtube.com/watch?v=3-xfmbdzkqc\n",
      "Processing video: https://www.youtube.com/watch?v=11dNghWC4HI\n",
      "Processing video: https://www.youtube.com/watch?v=3Md5KCCQX-0\n",
      "Processing video: https://www.youtube.com/watch?v=C2PC9185gIw\n",
      "Processing video: https://www.youtube.com/watch?v=b7JTVLc_aMk\n",
      "Processing video: https://www.youtube.com/watch?v=gw-4wltP5tY\n",
      "Processing video: https://www.youtube.com/watch?v=7rIFO8hct9g\n",
      "Processing video: https://www.youtube.com/watch?v=v8plb6V8BQo\n"
     ]
    },
    {
     "name": "stderr",
     "output_type": "stream",
     "text": [
      "Processing YouTube playlists: 100%|██████████| 8/8 [29:01<00:00, 217.71s/it]\n"
     ]
    },
    {
     "name": "stdout",
     "output_type": "stream",
     "text": [
      "Processing video: Zach Star - Dear Linear Algebra Students\n",
      "Processing video: Zach Star - The Applications of Matrices\n",
      "Processing video: Zach Star - Eigenvectors and Eigenvalues\n",
      "Processing video: Zach Star - Linear Algebra Tool\n",
      "Processing video: Zach Star - Dot Product Applications\n"
     ]
    }
   ],
   "source": [
    "import traceback\n",
    "\n",
    "all_yt_docs= []\n",
    "error_loading_list = []\n",
    "error_with_playlist = []\n",
    "for playlist in tqdm(youtube_playlists, desc=\"Processing YouTube playlists\"):\n",
    "    try:\n",
    "        print(f\"Processing playlist: {playlist['name']}\")\n",
    "        yt_docs, error_list = process_youtube_playlist(playlist['url'])\n",
    "        if yt_docs:\n",
    "            all_yt_docs.extend(yt_docs)\n",
    "        if error_list:\n",
    "            error_loading_list.extend(error_list)\n",
    "    except Exception as e:\n",
    "        print(f\"Error processing playlist: {playlist['name']}: {str(e)}\")\n",
    "        traceback.print_exc() #detailed error message\n",
    "        error_with_playlist.append(playlist['name'])\n",
    "\n",
    "# Iterate through individual YouTube videos\n",
    "for video in youtube_videos:\n",
    "    try:\n",
    "        print(f\"Processing video: {video['name']}\")\n",
    "        video_url = video['url']\n",
    "        yt_docs, error_loading = load_youtube_with_metadata(video_url)\n",
    "        if yt_docs:\n",
    "            all_yt_docs.extend(yt_docs)\n",
    "        if error_list:\n",
    "            error_loading_list.extend(error_loading)\n",
    "    except Exception as e:\n",
    "        print(f\"Error processing video: {video['name']}: {str(e)}\")\n",
    "\n"
   ]
  },
  {
   "cell_type": "code",
   "execution_count": 78,
   "metadata": {},
   "outputs": [
    {
     "name": "stdout",
     "output_type": "stream",
     "text": [
      "Loaded 442 YouTube documents\n",
      "Example yt document: page_content='one of the things I love most about linear algebra is that you can do linear algebra in two different ways two ways that are like different sides of the same coin there's this algebraic world a world where you're doing all sorts of adding and subtracting and multiplying other algebraic operations there's also this geometric world a world where you're visualizing lines transforming to other lines and so forth and then what that magic of linear algebra is that these two different worlds they algebraic and the geometric they really merge together into one coherent picture that is both beautiful and interesting and powerful and I'm going to show you just a little bit of that in this video let's consider a function like f of X equal to x squared what's really going on there well I think of functions is sort of a transformation there's some inputs and the inputs are transformed into being some outputs and in the case of something like I have X equal to x squared the kind of function you'd see in first-year calculus that you will be one-dimensional input X in a one-dimensional output f of X however we can imagine our transformations being in higher number of dimensions where the inputs might be a whole bunch of different variables and the outputs might be a whole bunch of different variables and one way you can visualize this is the following so I'm going to show you this here this is going to be the two-dimensional plane and I've got my origin over here now a way that I can view a transformation that takes the plane and transforms all the points to other points on the plane is just by showing you how they move so for example this is just going to be the rotation of the points on the plane by some number of degrees or I gotta have a different one I could take this one that that takes all of the plane it just compresses it down makes it a factor of two closer together for any pair of points ok I can do all sorts of different transformations from the plane of the plate what about this one's a little bit funky so this one this starts with my plane and then just goes off and so you guys have crazy direction like this and looks pretty cool but all of these are transformations from two-dimensional space to two-dimensional space now as you can see these very quickly get really really complicated and well it's true that you can study them in a variety of ways for example if you study multivariable calculus you would look at these transformations but you would impose some condition for example you would impose perhaps that these functions were smooth transformations differentiable transformations in some sense but in our course in linear algebra we're going to demand a lot we're not going to look at all the transformations we're gonna look at specific ones and the two things that were really gonna demand are first of all we're gonna demand free linear transformation they don't get any of these curvy things we see here if you start with the straight line that you're gonna end up with a straight line and secondly if you start right on the origin no matter what your transformation does it takes you right back to the origin that's the kind of transformation I'm gonna consider so this one doesn't apply but but this is an example that does work start up lines moves it around and you get some other lines so this does take lies the line that takes the origin to itself I'm gonna be pretty restrictive here a whole large number of transformations way more transformations are not linear than these linear ones it's quite a restrictive set so if I'm gonna narrow my focus into a relatively restricted set of all possible transformations then I have to get something out of it I have to say that well these linear transformations are really nice really easy really powerful but I worth spending a lot of time focusing on this restriction and indeed that's the case linear algebra that is the study of these linear transformations is so powerful that the restriction you make demanding that Lion gonna line the origin stay put turns out to be worth it so let me show you some some ways where this is gonna work the first thing I want to notice if I have my standard grit I'm gonna put two arrows you might know the term vectors for them but we'll call them arrows here and these are going to be very standard arrows the the red one is gonna start at the origin and go over to the point one zero and then the yellow ones will start at the origin and go up to the point zero one and when I read the vertically I I mean something like one to the right and zero op or zero for the right in one up is what I mean by this vertical placement of numbers okay so I have these two little arrows and let me apply my transformation they're gonna go off and do something they're gonna move somewhere else and because I prune it in I can see here that the yellow under notes going one to the left and then one up and that the red one is going to note going to to the right and one up so I know where those two arrows are gonna go there's standard red one the standard yellow one but what about some other arrow what about this funky one that we have down here well well this one I can think of it as going one to the right and then two down okay I could go and apply my transformation it's gonna move off somewhere but what are the coordinates of this where actually is this gone now the whole magic the whole wonderful part about linear algebra is that if I know where the red and the yellow arrow go those standard arrows I can figure out where all the other vectors are going to go as well look at this this is one to the right and two down so how would I just go and put those vectors in the red one denotes by one to the right and then for my yellow one I haven't done the arrow pointing up I've done the arrow pointing down which is kind of like a negative of it but either way it means to step down one so then this green arrow is really like doing the red arrow first and then negative two of the yellow arrows and then if I go and transform this okay this goes off somewhere and and one of the nice things about our condition that lines have to go to other straight lines is this triangle that we formed it goes to some other triangle but now I can figure out what the coordinates of this green arrow are because I know what the red arrow did I know what the yellow arrows did the red arrow that started as 1 0 1 to the right and 0 up it transforms to two to the right and one up meanwhile the yellows in the negative direction or gonna do no one to the right and one down and I got two of them and so putting this together if I just look at what's going to the right well I have two to the right one to the right one to the right that sends up four to the right I think it went up down well first we're going up one down and another down so what I have this particular point four minus 1 4 to the right and one down and I can even take these and sort of make it into sort of an equation of some parts plus put them all together and so what I get is that this 4 minus 1 or the right and one down is written as wherever the red vector is gonna go the red arrow two to the right and one up and then I subtract off two subtracting because the yellow arrows in the other direction have subtract off two of these vectors that are the one to the left and the one down and so we had this nice little algebraic formula for it so what's the key lesson that the key point is that if I know where the original red and yellow arrows are gonna go in this case they go to the 2 1 the minus 1 1 if I know where those go I can secure a other vector in the entire plane because it's just gonna be written as some combination of the red and the yellow vectors so all that matters for my entire transformation is knowing where the red and yellow vectors go they go here so I'm gonna combine this information I've got separately I'm gonna put it together into one algebraic thing we call a matrix where the columns of this so-called matrix denote where the red goes and where the yellow goes by the way I'm doing from two dimensions two dimensions you can have three dimensions of two dimensions or three dimension to eight dimensions or eight dimensions to 100 dimensions all sorts of different possibilities I'm just visualizing it in two dimensions so what we really learned here is that for these linear transformations that take lines lines and the origin to the origin that really they are defined by only these four numbers and if you know those four numbers you can figure out the entire transformation any other point you just try to describe it in terms of the red and yellow vectors this tells you where the red and yellow vectors go that's all you need to know so this is just the start of scraping the geometric picture what about the algebraic picture so let's just get rid of everything for a moment and I want to compare what I had called an arbitrary transformation and a linear transformation so the idea here is that if I'm going from two dimensions to two dimensions that I've got two input variables X in and Y in males have two output variables X out and Y out and that they're related in some way that the X out is just going to be some function that depends on the inputs and but Y out is some function that depends on the inputs I don't know exactly what they are but they're just some arbitrary function but again we're not looking at all transformations we're gonna focus our attention to what I'm gonna call the linear transformations under sample the your transformation looks like this I've given an explicit function for what the f and G are they are a so-called linear combination and the key thing about these expressions are that any input variable like the X N or the Y in it only appears in the expression raised to the power of 1 that's my algebraic constraint I don't have any X in squared I don't have cosine of X in I don't the square root of x in I have X in ^ 1 and yn to the power of 1 I'm allowed to multiply by some scalar constants like the 2 and the minus 1 that's it it's a pretty imposing restriction but when you get that imposed restriction then you see that these types of linear transformations again are defined by these four numbers and so again I can sort of associate this one thing I'm calling a matrix as the key thing that describes this algebraic description and indeed those four numbers are going to tell us everything so in other words we have this geometric world we have this algebraic world and we have different types of constraints the transformation did geometric world was imposing that a straight line has to go to a straight line and the origin to itself but then the algebraic constraint was that any of the input variables like the X in has to appear is only back to the power of 1 and then what's quite magical is that these two different constraints really seem to be the same thing that they're two different sides of the same coin so I want to show you one more interesting way that we can relate something else break and something geometric so remember this particular transformation that we had this one that we've been looking at and we've seen our two vectors and we saw that that was associated with these four numbers the 2 1 minus 1 1 well what about the transformation that sort of undoes it this transformation the one that takes those vectors and puts them back to where they began that's a different transformation we might want to call it in inverse transformation cuz it undoes the original one ok so this is an the undoing transformation the inverse transformation what four numbers are associated with it presumably there be four numbers that associate to this but what are they gonna be no because I know how to do this and I was programmed I can actually get to surf for you that it's this particular weird thing that we have here and these numbers are the ones that are going to do that particular transformation so what's what's the relationship here we know that when it comes to the level of geometric intuition we saw what was going on it transformed out and it transformed back they were sort of inverse transformations and we can sort of visually see what was going on but then algebraically there's some sort of connection you had this original matrix of four numbers and then the inverse transformation had this other matrix of four numbers and that raises the question well well how do I get from the one I mean if I didn't even visualize at all if I just would given these four numbers how would I figure out the other four numbers how would I figure out the algebraic manipulations that corresponded to this geometric notion of undoing or inverting a transformation all right so that is just scratching the surface on some of the wonderful interplay between the geometric worlds and the algebraic worlds of linear algebra and what we're going to do in this particular course I'm going to put the playlist up here is we're going to go and investigate this relationship in detail and we're going to see all sorts of wonderful variants about it because it turns out that this restriction of demanding not any transformation but linear transformations is enough to still apply really broadly but in fact we can say an enormous amount about it is incredibly powerful and that what makes linear algebra one of the most important tools in all of mathematics' metadata={'source': 'ZKUqtErZCiU', 'title': \"What's the big idea of Linear Algebra?    **Course Intro**\", 'description': 'This is the start of a one semester university level course on Linear Algebra that emphasizes both conceptual understanding as well as procedural fluency with the techniques of Linear Algebra. In this video, we get to see just the beginning of some of the big ideas of Linear Algebra. \\n\\nFULL PLAYLIST: https://www.youtube.com/playlist?list=PLHXZ9OQGMqxfUl0tcqPNTJsb7R6BqSLo6\\n\\nLinear Algebra is a story told in two worlds, one geometric and one algebraic. The interplay between the two is beautiful and powerful. In this video we introduce the notion of a linear transformation and see how this simplification makes our lives far easier. \\n\\nBECOME A MEMBER:\\n►Join: https://www.youtube.com/channel/UC9rTsvTxJnx1DNrDA3Rqa6A/join\\n\\nMATH BOOKS I LOVE (affilliate link):\\n► https://www.amazon.com/shop/treforbazett\\n\\nCOURSE PLAYLISTS:\\n►DISCRETE MATH: https://www.youtube.com/playlist?list=PLHXZ9OQGMqxersk8fUxiUMSIx0DBqsKZS\\n►LINEAR ALGEBRA: https://www.youtube.com/playlist?list=PLHXZ9OQGMqxfUl0tcqPNTJsb7R6BqSLo6\\n►CALCULUS I: https://www.youtube.com/playlist?list=PLHXZ9OQGMqxfT9RMcReZ4WcoVILP4k6-m\\n► CALCULUS II: https://www.youtube.com/playlist?list=PLHXZ9OQGMqxc4ySKTIW19TLrT91Ik9M4n\\n►MULTIVARIABLE CALCULUS (Calc III): https://www.youtube.com/playlist?list=PLHXZ9OQGMqxc_CvEy7xBKRQr6I214QJcd\\n►VECTOR CALCULUS (Calc IV) https://www.youtube.com/playlist?list=PLHXZ9OQGMqxfW0GMqeUE1bLKaYor6kbHa\\n►DIFFERENTIAL EQUATIONS: https://www.youtube.com/playlist?list=PLHXZ9OQGMqxde-SlgmWlCmNHroIWtujBw\\n►LAPLACE TRANSFORM: https://www.youtube.com/playlist?list=PLHXZ9OQGMqxcJXnLr08cyNaup4RDsbAl1\\n►GAME THEORY:  https://www.youtube.com/playlist?list=PLHXZ9OQGMqxdzD8KpTHz6_gsw9pPxRFlX\\n\\nOTHER PLAYLISTS:\\n► Learning Math Series\\nhttps://www.youtube.com/watch?v=LPH2lqis3D0&list=PLHXZ9OQGMqxfSkRtlL5KPq6JqMNTh_MBw\\n►Cool Math Series:\\nhttps://www.youtube.com/playlist?list=PLHXZ9OQGMqxelE_9RzwJ-cqfUtaFBpiho\\n\\nSOCIALS:\\n►X/Twitter: http://X.com/treforbazett\\n►TikTok: http://tiktok.com/@drtrefor\\n►Instagram (photography based): http://instagram.com/treforphotography', 'upload_date': '20180218', 'duration': 777, 'uploader': 'Dr. Trefor Bazett', 'view_count': 413086, 'like_count': 6778, 'dislike_count': None, 'categories': ['Education'], 'tags': ['Math', 'Solution', 'College', 'Linear Algebra', 'Linear Transformation', 'Linear System', 'Geometric', 'Algebraic', 'Introduction', 'intro', 'introduction', 'playlist'], 'sequence': 1}\n",
      "Errors loading YouTube documents: 0\n"
     ]
    }
   ],
   "source": [
    "print(f\"Loaded {len(all_yt_docs)} YouTube documents\")\n",
    "print(f\"Example yt document: {all_yt_docs[0]}\")\n",
    "print(f\"Errors loading YouTube documents: {len(error_loading_list)}\")\n",
    "if len(error_loading_list) > 0:\n",
    "    print(f\"Did not load the following: {error_loading_list}\")\n"
   ]
  },
  {
   "cell_type": "code",
   "execution_count": 79,
   "metadata": {},
   "outputs": [
    {
     "name": "stdout",
     "output_type": "stream",
     "text": [
      "Processing blog: 3blue1brown Blog\n",
      "Processing blog: Gregory Gundersen - Matrices as Functions\n",
      "Processing blog: Gregory Gundersen - Positive Definite Matrices\n",
      "Processing blog: Gregory Gundersen - Linear Independence\n",
      "Processing blog: Gregory Gundersen - Matrix Inversion\n",
      "Processing blog: Gregory Gundersen - Outer Products\n",
      "Processing blog: Gregory Gundersen - Summing Quadratics\n",
      "Processing blog: Gregory Gundersen - Randomized SVD\n",
      "Processing blog: Gregory Gundersen - SVD Proof\n",
      "Processing blog: Gregory Gundersen - Geometrical Understanding of Matrices\n",
      "Processing blog: Gregory Gundersen - Dot Product\n",
      "Loaded 11 documents from blogs.\n"
     ]
    }
   ],
   "source": [
    "from langchain.document_loaders import WebBaseLoader\n",
    "# Iterate through blog URLs\n",
    "# Function to load blog content asynchronously\n",
    "def load_blog_content(blog):\n",
    "    print(f\"Processing blog: {blog['name']}\")\n",
    "    blog_url = blog['url']\n",
    "    try:\n",
    "        loader = WebBaseLoader(blog_url)\n",
    "        blog_docs = []\n",
    "        for doc in loader.load():\n",
    "            blog_docs.append(doc)\n",
    "        return blog_docs\n",
    "    except Exception as e:\n",
    "        print(f\"Error loading blog: {blog['name']} - {e}\")\n",
    "        return []\n",
    "\n",
    "# Function to load all blogs synchronously\n",
    "def load_all_blogs(blogs):\n",
    "    all_blog_docs = []\n",
    "    for blog in blogs:\n",
    "        blog_docs = load_blog_content(blog)\n",
    "        all_blog_docs.extend(blog_docs)\n",
    "    return all_blog_docs\n",
    "\n",
    "# Run the synchronous function to load all blogs\n",
    "all_blog_docs = load_all_blogs(blogs)\n",
    "\n",
    "# Print the results\n",
    "print(f\"Loaded {len(all_blog_docs)} documents from blogs.\")"
   ]
  },
  {
   "cell_type": "code",
   "execution_count": 80,
   "metadata": {},
   "outputs": [],
   "source": [
    "import pickle\n",
    "\n",
    "# Define the path to the pickle file\n",
    "pickle_file_path = 'data/storage/full_all_documents.pkl'\n",
    "\n",
    "# Create the directory if it doesn't exist\n",
    "os.makedirs(os.path.dirname(pickle_file_path), exist_ok=True)\n",
    "#save all documents lists (all_pdf_docs + all_yt_docs + all_blog_docs) to pickle\n",
    "with open(pickle_file_path, 'wb') as f:\n",
    "    pickle.dump([all_pdf_docs, all_yt_docs, all_blog_docs], f)"
   ]
  },
  {
   "cell_type": "code",
   "execution_count": 81,
   "metadata": {},
   "outputs": [],
   "source": [
    "#merge all docs lists into one\n",
    "all_docs = all_pdf_docs + all_yt_docs + all_blog_docs"
   ]
  },
  {
   "cell_type": "code",
   "execution_count": 82,
   "metadata": {},
   "outputs": [],
   "source": [
    "for doc in all_yt_docs:\n",
    "    if not isinstance(doc, Document):\n",
    "        print(type(doc))\n",
    "        print(doc)\n",
    "\n",
    "assert all(isinstance(doc, Document) for doc in all_yt_docs), \"All items in all_yt_docs should be instances of Document\""
   ]
  },
  {
   "cell_type": "code",
   "execution_count": 83,
   "metadata": {},
   "outputs": [
    {
     "name": "stdout",
     "output_type": "stream",
     "text": [
      "Number of documents: 2501\n",
      "Size of all_docs in bytes: 20064\n",
      "PDF Metadata: {'source': 'C:\\\\Users\\\\jonathan.kasprisin\\\\github\\\\Learning\\\\KG_ilp\\\\data\\\\pdfs\\\\Gilbert_Strang_Linear_Algebra_and_Its_Applicatio_230928_225121.pdf', 'page': 2}\n",
      "PDF Content Preview: Contents\n",
      "Preface iv\n",
      "1 Matrices and Gaussian Elimination 1\n",
      "1.1 Introduction . . . . . . . . . . . . . . . . . . . . . . . . . . . . . . . . 1\n",
      "1.2 The Geometry of Linear Equations . . . . . . . . . . . \n",
      "\n",
      "YouTube Metadata: {'source': 'ZKUqtErZCiU', 'title': \"What's the big idea of Linear Algebra?    **Course Intro**\", 'description': 'This is the start of a one semester university level course on Linear Algebra that emphasizes both conceptual understanding as well as procedural fluency with the techniques of Linear Algebra. In this video, we get to see just the beginning of some of the big ideas of Linear Algebra. \\n\\nFULL PLAYLIST: https://www.youtube.com/playlist?list=PLHXZ9OQGMqxfUl0tcqPNTJsb7R6BqSLo6\\n\\nLinear Algebra is a story told in two worlds, one geometric and one algebraic. The interplay between the two is beautiful and powerful. In this video we introduce the notion of a linear transformation and see how this simplification makes our lives far easier. \\n\\nBECOME A MEMBER:\\n►Join: https://www.youtube.com/channel/UC9rTsvTxJnx1DNrDA3Rqa6A/join\\n\\nMATH BOOKS I LOVE (affilliate link):\\n► https://www.amazon.com/shop/treforbazett\\n\\nCOURSE PLAYLISTS:\\n►DISCRETE MATH: https://www.youtube.com/playlist?list=PLHXZ9OQGMqxersk8fUxiUMSIx0DBqsKZS\\n►LINEAR ALGEBRA: https://www.youtube.com/playlist?list=PLHXZ9OQGMqxfUl0tcqPNTJsb7R6BqSLo6\\n►CALCULUS I: https://www.youtube.com/playlist?list=PLHXZ9OQGMqxfT9RMcReZ4WcoVILP4k6-m\\n► CALCULUS II: https://www.youtube.com/playlist?list=PLHXZ9OQGMqxc4ySKTIW19TLrT91Ik9M4n\\n►MULTIVARIABLE CALCULUS (Calc III): https://www.youtube.com/playlist?list=PLHXZ9OQGMqxc_CvEy7xBKRQr6I214QJcd\\n►VECTOR CALCULUS (Calc IV) https://www.youtube.com/playlist?list=PLHXZ9OQGMqxfW0GMqeUE1bLKaYor6kbHa\\n►DIFFERENTIAL EQUATIONS: https://www.youtube.com/playlist?list=PLHXZ9OQGMqxde-SlgmWlCmNHroIWtujBw\\n►LAPLACE TRANSFORM: https://www.youtube.com/playlist?list=PLHXZ9OQGMqxcJXnLr08cyNaup4RDsbAl1\\n►GAME THEORY:  https://www.youtube.com/playlist?list=PLHXZ9OQGMqxdzD8KpTHz6_gsw9pPxRFlX\\n\\nOTHER PLAYLISTS:\\n► Learning Math Series\\nhttps://www.youtube.com/watch?v=LPH2lqis3D0&list=PLHXZ9OQGMqxfSkRtlL5KPq6JqMNTh_MBw\\n►Cool Math Series:\\nhttps://www.youtube.com/playlist?list=PLHXZ9OQGMqxelE_9RzwJ-cqfUtaFBpiho\\n\\nSOCIALS:\\n►X/Twitter: http://X.com/treforbazett\\n►TikTok: http://tiktok.com/@drtrefor\\n►Instagram (photography based): http://instagram.com/treforphotography', 'upload_date': '20180218', 'duration': 777, 'uploader': 'Dr. Trefor Bazett', 'view_count': 413086, 'like_count': 6778, 'dislike_count': None, 'categories': ['Education'], 'tags': ['Math', 'Solution', 'College', 'Linear Algebra', 'Linear Transformation', 'Linear System', 'Geometric', 'Algebraic', 'Introduction', 'intro', 'introduction', 'playlist'], 'sequence': 1}\n",
      "YouTube Content Preview: one of the things I love most about linear algebra is that you can do linear algebra in two different ways two ways that are like different sides of the same coin there's this algebraic world a world \n",
      "\n",
      "Blog Metadata: {'source': 'https://www.3blue1brown.com/topics/linear-algebra', 'title': '3Blue1Brown', 'description': 'Mathematics with a distinct visual perspective. Linear algebra, calculus, neural networks, topology, and more.', 'language': 'No language found.'}\n",
      "Blog Content Preview: 3Blue1Brown3Blue1BrownMenuLessonsSoMEBlogExtrasStoreFAQContactAboutLinear AlgebraAn introduction to visualizing what matrices are really doingLessonsVectors, what even are they?This lesson describes t\n",
      "\n"
     ]
    }
   ],
   "source": [
    "import sys\n",
    "\n",
    "print(f\"Number of documents: {len(all_docs)}\")\n",
    "print(f\"Size of all_docs in bytes: {sys.getsizeof(all_docs)}\")\n",
    "\n",
    "# Function to print metadata and first 100 characters of content\n",
    "def print_document_info(doc, doc_type):\n",
    "    metadata = doc.metadata\n",
    "    content_preview = doc.page_content[:200]\n",
    "    print(f\"{doc_type} Metadata: {metadata}\")\n",
    "    print(f\"{doc_type} Content Preview: {content_preview}\\n\")\n",
    "\n",
    "# Examine a document from each loader\n",
    "print_document_info(all_pdf_docs[2], \"PDF\")\n",
    "print_document_info(all_yt_docs[0], \"YouTube\")\n",
    "print_document_info(all_blog_docs[0], \"Blog\")\n",
    "\n",
    "#print(all_blog_docs[0].page_content)\n"
   ]
  },
  {
   "cell_type": "code",
   "execution_count": 84,
   "metadata": {},
   "outputs": [],
   "source": [
    "##some_splits"
   ]
  },
  {
   "cell_type": "code",
   "execution_count": 85,
   "metadata": {},
   "outputs": [
    {
     "name": "stdout",
     "output_type": "stream",
     "text": [
      "splitting documents...\n",
      "split all docs: 2501 into subdocuments: 11564\n",
      "cleaning metadata...\n"
     ]
    }
   ],
   "source": [
    "from langchain_community.vectorstores.utils import filter_complex_metadata\n",
    "from langchain_text_splitters import RecursiveCharacterTextSplitter\n",
    "\n",
    "\n",
    "#filter complex meta data like lists from yt videos\n",
    "simple_metadata_docs =  filter_complex_metadata(all_docs)\n",
    "\n",
    "text_splitter = RecursiveCharacterTextSplitter(\n",
    "    chunk_size=1000,\n",
    "    chunk_overlap=200,\n",
    "    add_start_index=True #track index in orginal document\n",
    ")\n",
    "\n",
    "print(\"splitting documents...\")\n",
    "all_splits = text_splitter.split_documents(all_docs)\n",
    "\n",
    "print(f\"split all docs: {len(all_docs)} into subdocuments: {len(all_splits)}\")\n",
    "\n",
    "#prevent issues in metadata\n",
    "def clean_metadata(metadata):\n",
    "    \"\"\"\n",
    "    Replace None values in metadata with a default value.\n",
    "    \"\"\"\n",
    "    \n",
    "    for key, value in metadata.items():\n",
    "        if value is None:\n",
    "            metadata[key] = \"\"  # Replace None with an empty string or a default value\n",
    "    return metadata\n",
    "\n",
    "print(\"cleaning metadata...\")\n",
    "for split in all_splits:\n",
    "    split.metadata= clean_metadata(split.metadata)\n"
   ]
  },
  {
   "cell_type": "markdown",
   "metadata": {},
   "source": [
    "## Embed and store"
   ]
  },
  {
   "cell_type": "markdown",
   "metadata": {},
   "source": [
    "### Embed on CPU"
   ]
  },
  {
   "cell_type": "code",
   "execution_count": 86,
   "metadata": {},
   "outputs": [
    {
     "name": "stderr",
     "output_type": "stream",
     "text": [
      "C:\\Users\\jonathan.kasprisin\\AppData\\Local\\Temp\\ipykernel_41992\\2364682117.py:7: LangChainDeprecationWarning: The class `HuggingFaceBgeEmbeddings` was deprecated in LangChain 0.2.2 and will be removed in 1.0. An updated version of the class exists in the :class:`~langchain-huggingface package and should be used instead. To use it run `pip install -U :class:`~langchain-huggingface` and import as `from :class:`~langchain_huggingface import HuggingFaceEmbeddings``.\n",
      "  embd = HuggingFaceBgeEmbeddings(\n"
     ]
    },
    {
     "data": {
      "application/vnd.jupyter.widget-view+json": {
       "model_id": "208a0d9222b447b0a58dc7fce08b2c2c",
       "version_major": 2,
       "version_minor": 0
      },
      "text/plain": [
       "modules.json:   0%|          | 0.00/349 [00:00<?, ?B/s]"
      ]
     },
     "metadata": {},
     "output_type": "display_data"
    },
    {
     "name": "stderr",
     "output_type": "stream",
     "text": [
      "c:\\Users\\jonathan.kasprisin\\AppData\\Local\\miniconda3\\envs\\kg_ilp\\Lib\\site-packages\\huggingface_hub\\file_download.py:140: UserWarning: `huggingface_hub` cache-system uses symlinks by default to efficiently store duplicated files but your machine does not support them in C:\\Users\\jonathan.kasprisin\\.cache\\huggingface\\hub\\models--BAAI--bge-small-en-v1.5. Caching files will still work but in a degraded version that might require more space on your disk. This warning can be disabled by setting the `HF_HUB_DISABLE_SYMLINKS_WARNING` environment variable. For more details, see https://huggingface.co/docs/huggingface_hub/how-to-cache#limitations.\n",
      "To support symlinks on Windows, you either need to activate Developer Mode or to run Python as an administrator. In order to activate developer mode, see this article: https://docs.microsoft.com/en-us/windows/apps/get-started/enable-your-device-for-development\n",
      "  warnings.warn(message)\n"
     ]
    },
    {
     "data": {
      "application/vnd.jupyter.widget-view+json": {
       "model_id": "57492e4f553e4a34bef880781564af7b",
       "version_major": 2,
       "version_minor": 0
      },
      "text/plain": [
       "config_sentence_transformers.json:   0%|          | 0.00/124 [00:00<?, ?B/s]"
      ]
     },
     "metadata": {},
     "output_type": "display_data"
    },
    {
     "data": {
      "application/vnd.jupyter.widget-view+json": {
       "model_id": "3bedbb1282134efe83bb8a5f13cd1b29",
       "version_major": 2,
       "version_minor": 0
      },
      "text/plain": [
       "README.md:   0%|          | 0.00/94.8k [00:00<?, ?B/s]"
      ]
     },
     "metadata": {},
     "output_type": "display_data"
    },
    {
     "data": {
      "application/vnd.jupyter.widget-view+json": {
       "model_id": "5ffc99b36e4c45cdade210c75056f394",
       "version_major": 2,
       "version_minor": 0
      },
      "text/plain": [
       "sentence_bert_config.json:   0%|          | 0.00/52.0 [00:00<?, ?B/s]"
      ]
     },
     "metadata": {},
     "output_type": "display_data"
    },
    {
     "data": {
      "application/vnd.jupyter.widget-view+json": {
       "model_id": "ddca5ed626d648baa4e46b95d9e4ca4f",
       "version_major": 2,
       "version_minor": 0
      },
      "text/plain": [
       "config.json:   0%|          | 0.00/743 [00:00<?, ?B/s]"
      ]
     },
     "metadata": {},
     "output_type": "display_data"
    },
    {
     "data": {
      "application/vnd.jupyter.widget-view+json": {
       "model_id": "6fd0f85f409b45b3adb905d0293a2673",
       "version_major": 2,
       "version_minor": 0
      },
      "text/plain": [
       "model.safetensors:   0%|          | 0.00/133M [00:00<?, ?B/s]"
      ]
     },
     "metadata": {},
     "output_type": "display_data"
    },
    {
     "data": {
      "application/vnd.jupyter.widget-view+json": {
       "model_id": "2e1ca127cc314d52b53f029c0354f5a3",
       "version_major": 2,
       "version_minor": 0
      },
      "text/plain": [
       "tokenizer_config.json:   0%|          | 0.00/366 [00:00<?, ?B/s]"
      ]
     },
     "metadata": {},
     "output_type": "display_data"
    },
    {
     "data": {
      "application/vnd.jupyter.widget-view+json": {
       "model_id": "9b59367773934eb180ed8896fe99a291",
       "version_major": 2,
       "version_minor": 0
      },
      "text/plain": [
       "vocab.txt:   0%|          | 0.00/232k [00:00<?, ?B/s]"
      ]
     },
     "metadata": {},
     "output_type": "display_data"
    },
    {
     "data": {
      "application/vnd.jupyter.widget-view+json": {
       "model_id": "70d217dc3fc04fbeb9d0ae48a5a73a5d",
       "version_major": 2,
       "version_minor": 0
      },
      "text/plain": [
       "tokenizer.json:   0%|          | 0.00/711k [00:00<?, ?B/s]"
      ]
     },
     "metadata": {},
     "output_type": "display_data"
    },
    {
     "data": {
      "application/vnd.jupyter.widget-view+json": {
       "model_id": "ebb9be8cf2fd4e4e8c560eafe2a0e3fc",
       "version_major": 2,
       "version_minor": 0
      },
      "text/plain": [
       "special_tokens_map.json:   0%|          | 0.00/125 [00:00<?, ?B/s]"
      ]
     },
     "metadata": {},
     "output_type": "display_data"
    },
    {
     "data": {
      "application/vnd.jupyter.widget-view+json": {
       "model_id": "5f14c33c2e134d83ae316fa6b2df3e38",
       "version_major": 2,
       "version_minor": 0
      },
      "text/plain": [
       "1_Pooling/config.json:   0%|          | 0.00/190 [00:00<?, ?B/s]"
      ]
     },
     "metadata": {},
     "output_type": "display_data"
    }
   ],
   "source": [
    "from langchain_community.embeddings import HuggingFaceBgeEmbeddings\n",
    "\n",
    "\n",
    "model_name = \"BAAI/bge-small-en-v1.5\" #BAAI/bge-en-icl\n",
    "model_kwargs = {\"device\": \"cpu\"}\n",
    "encode_kwargs = {\"normalize_embeddings\": True}\n",
    "embd = HuggingFaceBgeEmbeddings(\n",
    "    model_name=model_name, model_kwargs=model_kwargs, encode_kwargs=encode_kwargs\n",
    ")"
   ]
  },
  {
   "cell_type": "markdown",
   "metadata": {},
   "source": [
    "### Vectorstore "
   ]
  },
  {
   "cell_type": "code",
   "execution_count": 87,
   "metadata": {},
   "outputs": [],
   "source": [
    "from langchain_chroma import Chroma\n",
    "\n",
    "vector_store = Chroma(\n",
    "    embedding_function=embd,\n",
    "    persist_directory=\"C:/Users/jonathan.kasprisin/github/Learning/KG_ilp/data/storage/chroma_db_bde_small\",\n",
    "    collection_name=\"full_vstore_bge_small\",)"
   ]
  },
  {
   "cell_type": "code",
   "execution_count": 88,
   "metadata": {},
   "outputs": [
    {
     "name": "stderr",
     "output_type": "stream",
     "text": [
      "Adding documents to vector store: 100%|██████████| 11564/11564 [15:12<00:00, 12.68doc/s]"
     ]
    },
    {
     "name": "stdout",
     "output_type": "stream",
     "text": [
      "Added 11564 documents to the vector store. Example document ID: 10ed5211-1763-402c-b5a6-3c3370ac2f58\n"
     ]
    },
    {
     "name": "stderr",
     "output_type": "stream",
     "text": [
      "\n"
     ]
    },
    {
     "data": {
      "text/plain": [
       "'C:/Users/jonathan.kasprisin/github/Learning/KG_ilp/data/storage/chroma_db_bde_small'"
      ]
     },
     "execution_count": 88,
     "metadata": {},
     "output_type": "execute_result"
    }
   ],
   "source": [
    "document_ids = []\n",
    "for doc in tqdm(all_splits, desc=\"Adding documents to vector store\", unit=\"doc\"):\n",
    "    doc_id = vector_store.add_documents(documents=[doc])\n",
    "    document_ids.extend(doc_id)\n",
    "\n",
    "print(f\"Added {len(document_ids)} documents to the vector store. Example document ID: {document_ids[0]}\")\n",
    "\n",
    "#save db\n",
    "vector_store._persist_directory"
   ]
  },
  {
   "cell_type": "markdown",
   "metadata": {},
   "source": []
  }
 ],
 "metadata": {
  "kernelspec": {
   "display_name": "kg_ilp",
   "language": "python",
   "name": "python3"
  },
  "language_info": {
   "codemirror_mode": {
    "name": "ipython",
    "version": 3
   },
   "file_extension": ".py",
   "mimetype": "text/x-python",
   "name": "python",
   "nbconvert_exporter": "python",
   "pygments_lexer": "ipython3",
   "version": "3.12.8"
  }
 },
 "nbformat": 4,
 "nbformat_minor": 2
}
