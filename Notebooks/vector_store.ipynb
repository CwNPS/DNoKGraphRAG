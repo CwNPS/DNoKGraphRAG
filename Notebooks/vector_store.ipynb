{
 "cells": [
  {
   "cell_type": "markdown",
   "metadata": {},
   "source": [
    "# Generate a different vector store for RAG"
   ]
  },
  {
   "cell_type": "code",
   "execution_count": 1,
   "metadata": {},
   "outputs": [],
   "source": [
    "from langchain_huggingface import HuggingFaceEmbeddings\n",
    "\n",
    "model_name = \"dunzhang/stella_en_1.5B_v5\" #\"BAAI/bge-small-en-v1.5\" #dunzhang/stella_en_1.5B_v5\n",
    "model_kwargs = {\"device\": \"cpu\"}\n",
    "encode_kwargs = {\"normalize_embeddings\": True}\n",
    "embd = HuggingFaceEmbeddings(\n",
    "    model_name=model_name, model_kwargs=model_kwargs, encode_kwargs=encode_kwargs\n",
    ")"
   ]
  },
  {
   "cell_type": "code",
   "execution_count": 3,
   "metadata": {},
   "outputs": [
    {
     "name": "stdout",
     "output_type": "stream",
     "text": [
      "Number of PDF documents: 2048\n",
      "Number of YouTube documents: 442\n",
      "Number of blog documents: 11\n",
      "Total number of documents: 2501\n"
     ]
    }
   ],
   "source": [
    "import pickle\n",
    "import os\n",
    "\n",
    "# load pickled documents\n",
    "pickle_file_path = '../data/storage/full_all_documents.pkl'\n",
    "if os.path.exists(pickle_file_path):\n",
    "    with open(pickle_file_path, 'rb') as f:\n",
    "        all_pdf_docs, all_yt_docs, all_blog_docs = pickle.load(f)\n",
    "else:\n",
    "    print(\"Pickle file not found.\")\n",
    "\n",
    "#check if the documents are loaded\n",
    "print(\"Number of PDF documents:\", len(all_pdf_docs))\n",
    "print(\"Number of YouTube documents:\", len(all_yt_docs))\n",
    "print(\"Number of blog documents:\", len(all_blog_docs))\n",
    "\n",
    "all_docs = all_pdf_docs + all_yt_docs + all_blog_docs\n",
    "print(\"Total number of documents:\", len(all_docs))"
   ]
  },
  {
   "cell_type": "code",
   "execution_count": 4,
   "metadata": {},
   "outputs": [
    {
     "name": "stdout",
     "output_type": "stream",
     "text": [
      "splitting documents...\n",
      "split all docs: 2501 into subdocuments: 74407\n",
      "cleaning metadata...\n"
     ]
    }
   ],
   "source": [
    "from langchain_community.vectorstores.utils import filter_complex_metadata\n",
    "from langchain_text_splitters import RecursiveCharacterTextSplitter\n",
    "\n",
    "\n",
    "#filter complex meta data like lists from yt videos\n",
    "simple_metadata_docs =  filter_complex_metadata(all_docs)\n",
    "\n",
    "text_splitter = RecursiveCharacterTextSplitter(\n",
    "    chunk_size=150,\n",
    "    chunk_overlap=0,\n",
    "    add_start_index=True #track index in orginal document\n",
    ")\n",
    "\n",
    "print(\"splitting documents...\")\n",
    "all_splits = text_splitter.split_documents(all_docs)\n",
    "\n",
    "print(f\"split all docs: {len(all_docs)} into subdocuments: {len(all_splits)}\")\n",
    "\n",
    "#prevent issues in metadata\n",
    "def clean_metadata(metadata):\n",
    "    \"\"\"\n",
    "    Replace None values in metadata with a default value.\n",
    "    \"\"\"\n",
    "    \n",
    "    for key, value in metadata.items():\n",
    "        if value is None:\n",
    "            metadata[key] = \"\"  # Replace None with an empty string or a default value\n",
    "    return metadata\n",
    "\n",
    "print(\"cleaning metadata...\")\n",
    "for split in all_splits:\n",
    "    split.metadata= clean_metadata(split.metadata)"
   ]
  },
  {
   "cell_type": "code",
   "execution_count": null,
   "metadata": {},
   "outputs": [
    {
     "name": "stderr",
     "output_type": "stream",
     "text": [
      "Adding documents to vector store:  67%|██████▋   | 49945/74407 [9:44:27<4:44:05,  1.44doc/s] "
     ]
    }
   ],
   "source": [
    "from langchain_chroma import Chroma\n",
    "import os\n",
    "from tqdm import tqdm\n",
    "\n",
    "vector_store_path = \"../data/storage/chroma_db_stella_1.5B_chunk150\"\n",
    "                               \n",
    "vector_store = Chroma(\n",
    "    embedding_function=embd,\n",
    "    persist_directory=vector_store_path,\n",
    "    collection_name=\"full_vstore_stella1.5B_chunk150\",\n",
    ")\n",
    "\n",
    "document_ids = []\n",
    "for doc in tqdm(all_splits, desc=\"Adding documents to vector store\", unit=\"doc\"):\n",
    "    doc_id = vector_store.add_documents(documents=[doc])\n",
    "    document_ids.extend(doc_id)\n",
    "\n",
    "print(f\"Added {len(document_ids)} documents to the vector store. Example document ID: {document_ids[0]}\")\n",
    "\n",
    "#save db\n",
    "vector_store._persist_directory"
   ]
  },
  {
   "cell_type": "code",
   "execution_count": null,
   "metadata": {},
   "outputs": [],
   "source": [
    "vector_store_check = Chroma(\n",
    "    embedding_function=embd,\n",
    "    persist_directory=vector_store_path,\n",
    "    collection_name=\"full_vstore_stella1.5B_chunk150\",\n",
    ")\n",
    "\n",
    "# Get the number of documents in the vector store\n",
    "num_documents = vector_store_check._collection.count()\n",
    "\n",
    "# Print the number of documents\n",
    "print(f\"Number of documents in the vector store: {num_documents}\")\n",
    "\n",
    "# Preview one of the documents (assuming the documents are stored in a collection)\n",
    "if num_documents > 0:\n",
    "    # Retrieve the first document (or any document by its ID)\n",
    "    document = vector_store_check._collection.peek(limit=1)\n",
    "    \n",
    "    # Print a preview of the document\n",
    "    print(\"Preview of the first document:\")\n",
    "    print(document)\n",
    "else:\n",
    "    print(\"No documents found in the vector store.\")\n",
    "\n",
    "#check that the vector store is saved\n",
    "print(os.listdir(vector_store._persist_directory))"
   ]
  }
 ],
 "metadata": {
  "kernelspec": {
   "display_name": "graphrag",
   "language": "python",
   "name": "python3"
  },
  "language_info": {
   "codemirror_mode": {
    "name": "ipython",
    "version": 3
   },
   "file_extension": ".py",
   "mimetype": "text/x-python",
   "name": "python",
   "nbconvert_exporter": "python",
   "pygments_lexer": "ipython3",
   "version": "3.12.8"
  }
 },
 "nbformat": 4,
 "nbformat_minor": 2
}
